{
 "cells": [
  {
   "cell_type": "code",
   "execution_count": 4,
   "metadata": {},
   "outputs": [
    {
     "data": {
      "text/plain": [
       "Date\n",
       "1997-10-07    191.2500\n",
       "1997-10-08    253.7500\n",
       "1997-10-09    315.0000\n",
       "1997-10-10    297.5000\n",
       "1997-10-13    273.1250\n",
       "1997-10-14    260.0000\n",
       "1997-10-15    253.7500\n",
       "1997-10-16    243.7500\n",
       "1997-10-17    223.7500\n",
       "1997-10-20    250.0000\n",
       "1997-10-21    267.5000\n",
       "1997-10-22    262.5000\n",
       "1997-10-23    237.5000\n",
       "1997-10-24    242.5000\n",
       "1997-10-27    222.5000\n",
       "1997-10-28    258.7500\n",
       "1997-10-29    248.7500\n",
       "1997-10-30    236.2500\n",
       "1997-10-31    232.5000\n",
       "1997-11-03    257.5000\n",
       "1997-11-04    242.5000\n",
       "1997-11-05    245.0000\n",
       "1997-11-06    235.0000\n",
       "1997-11-07    232.5000\n",
       "1997-11-10    242.5000\n",
       "1997-11-11    241.2500\n",
       "1997-11-12    233.7500\n",
       "1997-11-13    238.4375\n",
       "1997-11-14    231.2500\n",
       "1997-11-17    235.0000\n",
       "                ...   \n",
       "2019-04-15      4.7000\n",
       "2019-04-16      4.9300\n",
       "2019-04-17      4.9000\n",
       "2019-04-18      4.9000\n",
       "2019-04-22      4.9100\n",
       "2019-04-23      4.9400\n",
       "2019-04-24      5.0200\n",
       "2019-04-25      4.9100\n",
       "2019-04-26      5.0000\n",
       "2019-04-29      4.9000\n",
       "2019-04-30      5.1500\n",
       "2019-05-01      5.4500\n",
       "2019-05-02      5.6500\n",
       "2019-05-03      5.5300\n",
       "2019-05-06      5.2300\n",
       "2019-05-07      5.2100\n",
       "2019-05-08      5.3500\n",
       "2019-05-09      5.3100\n",
       "2019-05-10      5.4200\n",
       "2019-05-13      5.3300\n",
       "2019-05-14      5.0100\n",
       "2019-05-15      5.0400\n",
       "2019-05-16      4.9800\n",
       "2019-05-17      5.1500\n",
       "2019-05-20      5.2100\n",
       "2019-05-21      4.9100\n",
       "2019-05-22      5.1600\n",
       "2019-05-23      5.0500\n",
       "2019-05-24      4.9800\n",
       "2019-05-28      4.9750\n",
       "Name: Close, Length: 5444, dtype: float64"
      ]
     },
     "execution_count": 4,
     "metadata": {},
     "output_type": "execute_result"
    }
   ],
   "source": [
    "import io\n",
    "import requests\n",
    "import datetime\n",
    "import pandas as pd\n",
    "import numpy as np\n",
    "\n",
    "def crawl_price(stock_id):\n",
    "    now = int(datetime.datetime.now().timestamp())+86400\n",
    "    url = \"https://query1.finance.yahoo.com/v7/finance/download/\" + stock_id + \"?period1=0&period2=\" + str(now) + \"&interval=1d&events=history&crumb=hP2rOschxO0\"\n",
    "\n",
    "    response = requests.post(url)\n",
    "\n",
    "    f = io.StringIO(response.text)\n",
    "    df = pd.read_csv(f, index_col='Date', parse_dates=['Date'] )\n",
    "\n",
    "    return df\n",
    "\n",
    "df = crawl_price(\"INVE\")\n",
    "dfclose= df.Close\n",
    "dfclose\n"
   ]
  },
  {
   "cell_type": "code",
   "execution_count": 2,
   "metadata": {},
   "outputs": [],
   "source": [
    "#PEGA = crawl_price(\"BBOX.L\")\n",
    "#pegaclose=PEGA.Close\n",
    "#pegaclose.to_excel('BBOXoutput.xls')"
   ]
  },
  {
   "cell_type": "code",
   "execution_count": 3,
   "metadata": {},
   "outputs": [],
   "source": [
    "#kkk = open('chosen_list.txt','r')\n",
    "#print(kkk.read())"
   ]
  }
 ],
 "metadata": {
  "kernelspec": {
   "display_name": "Python 3",
   "language": "python",
   "name": "python3"
  },
  "language_info": {
   "codemirror_mode": {
    "name": "ipython",
    "version": 3
   },
   "file_extension": ".py",
   "mimetype": "text/x-python",
   "name": "python",
   "nbconvert_exporter": "python",
   "pygments_lexer": "ipython3",
   "version": "3.7.3"
  }
 },
 "nbformat": 4,
 "nbformat_minor": 2
}
