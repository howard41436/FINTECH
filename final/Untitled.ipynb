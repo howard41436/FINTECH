{
 "cells": [
  {
   "cell_type": "code",
   "execution_count": 4,
   "metadata": {},
   "outputs": [],
   "source": [
    "import pickle\n",
    "import os, csv\n",
    "with open('dic.pkl', 'rb') as f:\n",
    "    dic = pickle.load(f)"
   ]
  },
  {
   "cell_type": "code",
   "execution_count": 5,
   "metadata": {},
   "outputs": [],
   "source": [
    "for company in dic:\n",
    "    if (dic[company]['date_list'][-1] - dic[company]['date_list'][0]).days < 0:\n",
    "        dic[company]['date_list'] = dic[company]['date_list'][::-1]\n",
    "        dic[company]['sentiment_list'] = dic[company]['sentiment_list'][::-1]"
   ]
  },
  {
   "cell_type": "code",
   "execution_count": null,
   "metadata": {},
   "outputs": [],
   "source": [
    "import xlrd\n",
    "from datetime import datetime, timedelta, date\n",
    "return_rate_dic = {}\n",
    "delete_list = ['FALC', 'IDT', 'PRCP']\n",
    "for company in dic:\n",
    "    if company in delete_list:\n",
    "        continue\n",
    "    return_rate_dic[company] = {}\n",
    "    wb = xlrd.open_workbook('LAR2000-2010.xlsx')\n",
    "    sheet = wb.sheets()[0]\n",
    "    prev = None\n",
    "    for idx in range(sheet.nrows):\n",
    "        if idx <= 3:\n",
    "            continue\n",
    "        row = sheet.row(idx)\n",
    "        try:\n",
    "            _  = float(row[1].value)\n",
    "        except:\n",
    "            continue\n",
    "        if prev is None:\n",
    "            prev = (row[0].value, row[1].value)\n",
    "            continue\n",
    "        dt = xlrd.xldate_as_datetime(row[1].value, 0)\n",
    "        if timedelta(days = 0) <= dt - dic[company]['date_list'][0] and timedelta(days = 0) >= dt - datetime(year = 2009, month = 12, day = 31):\n",
    "            return_rate_dic[company][dt] = ((row[1].value - prev[1]) / prev[1])  / (dt - prev[0]).days\n",
    "        if timedelta(days = 0) < dt - datetime(year = 2009, month = 12, day = 31):\n",
    "            break\n",
    "        prev = (dt, float(row[1].value))\n",
    "return_rate_dic['AAPL']"
   ]
  },
  {
   "cell_type": "code",
   "execution_count": 10,
   "metadata": {},
   "outputs": [],
   "source": [
    "import xlrd\n",
    "from datetime import datetime, timedelta, date\n",
    "wb = xlrd.open_workbook('LAR2000-2010.xlsx')\n",
    "sheet = wb.sheets()[0]\n",
    "for idx in range(sheet.nrows):\n",
    "        if idx <= 3:\n",
    "            continue\n",
    "        row = sheet.row(idx)    "
   ]
  },
  {
   "cell_type": "code",
   "execution_count": 12,
   "metadata": {},
   "outputs": [
    {
     "data": {
      "text/plain": [
       "text:'12/31/2010'"
      ]
     },
     "execution_count": 12,
     "metadata": {},
     "output_type": "execute_result"
    }
   ],
   "source": [
    "row[1]"
   ]
  },
  {
   "cell_type": "code",
   "execution_count": 13,
   "metadata": {},
   "outputs": [
    {
     "ename": "TypeError",
     "evalue": "'<' not supported between instances of 'str' and 'int'",
     "output_type": "error",
     "traceback": [
      "\u001b[1;31m---------------------------------------------------------------------------\u001b[0m",
      "\u001b[1;31mTypeError\u001b[0m                                 Traceback (most recent call last)",
      "\u001b[1;32m<ipython-input-13-b82e82975bbc>\u001b[0m in \u001b[0;36m<module>\u001b[1;34m\u001b[0m\n\u001b[1;32m----> 1\u001b[1;33m \u001b[0mdt\u001b[0m \u001b[1;33m=\u001b[0m \u001b[0mxlrd\u001b[0m\u001b[1;33m.\u001b[0m\u001b[0mxldate_as_datetime\u001b[0m\u001b[1;33m(\u001b[0m\u001b[0mrow\u001b[0m\u001b[1;33m[\u001b[0m\u001b[1;36m1\u001b[0m\u001b[1;33m]\u001b[0m\u001b[1;33m.\u001b[0m\u001b[0mvalue\u001b[0m\u001b[1;33m,\u001b[0m \u001b[1;36m0\u001b[0m\u001b[1;33m)\u001b[0m\u001b[1;33m\u001b[0m\u001b[1;33m\u001b[0m\u001b[0m\n\u001b[0m",
      "\u001b[1;32mC:\\ProgramData\\Anaconda3\\lib\\site-packages\\xlrd\\xldate.py\u001b[0m in \u001b[0;36mxldate_as_datetime\u001b[1;34m(xldate, datemode)\u001b[0m\n\u001b[0;32m    142\u001b[0m         \u001b[0mepoch\u001b[0m \u001b[1;33m=\u001b[0m \u001b[0mepoch_1904\u001b[0m\u001b[1;33m\u001b[0m\u001b[1;33m\u001b[0m\u001b[0m\n\u001b[0;32m    143\u001b[0m     \u001b[1;32melse\u001b[0m\u001b[1;33m:\u001b[0m\u001b[1;33m\u001b[0m\u001b[1;33m\u001b[0m\u001b[0m\n\u001b[1;32m--> 144\u001b[1;33m         \u001b[1;32mif\u001b[0m \u001b[0mxldate\u001b[0m \u001b[1;33m<\u001b[0m \u001b[1;36m60\u001b[0m\u001b[1;33m:\u001b[0m\u001b[1;33m\u001b[0m\u001b[1;33m\u001b[0m\u001b[0m\n\u001b[0m\u001b[0;32m    145\u001b[0m             \u001b[0mepoch\u001b[0m \u001b[1;33m=\u001b[0m \u001b[0mepoch_1900\u001b[0m\u001b[1;33m\u001b[0m\u001b[1;33m\u001b[0m\u001b[0m\n\u001b[0;32m    146\u001b[0m         \u001b[1;32melse\u001b[0m\u001b[1;33m:\u001b[0m\u001b[1;33m\u001b[0m\u001b[1;33m\u001b[0m\u001b[0m\n",
      "\u001b[1;31mTypeError\u001b[0m: '<' not supported between instances of 'str' and 'int'"
     ]
    }
   ],
   "source": [
    "dt = xlrd.xldate_as_datetime(row[1].value, 0)"
   ]
  },
  {
   "cell_type": "code",
   "execution_count": null,
   "metadata": {},
   "outputs": [],
   "source": []
  }
 ],
 "metadata": {
  "kernelspec": {
   "display_name": "Python 3",
   "language": "python",
   "name": "python3"
  },
  "language_info": {
   "codemirror_mode": {
    "name": "ipython",
    "version": 3
   },
   "file_extension": ".py",
   "mimetype": "text/x-python",
   "name": "python",
   "nbconvert_exporter": "python",
   "pygments_lexer": "ipython3",
   "version": "3.7.3"
  }
 },
 "nbformat": 4,
 "nbformat_minor": 2
}
