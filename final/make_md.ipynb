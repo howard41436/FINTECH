{
 "cells": [
  {
   "cell_type": "code",
   "execution_count": 45,
   "metadata": {},
   "outputs": [],
   "source": [
    "import pickle\n",
    "with open('good_list.pkl', 'rb') as f:\n",
    "    good_list = pickle.load(f)\n",
    "with open('bad_list.pkl', 'rb') as f:\n",
    "    bad_list = pickle.load(f)\n",
    "with open('return_rate.pkl', 'rb') as f:\n",
    "    return_rate = pickle.load(f)\n",
    "with open('corr.pkl', 'rb') as f:\n",
    "    corr = pickle.load(f)\n",
    "with open('chosen_list.pkl', 'rb') as f:\n",
    "    chosen_list = pickle.load(f)\n",
    "with open('comp_name.pkl', 'rb') as f:\n",
    "    comp_name = pickle.load(f)"
   ]
  },
  {
   "cell_type": "code",
   "execution_count": 46,
   "metadata": {},
   "outputs": [
    {
     "data": {
      "text/plain": [
       "10"
      ]
     },
     "execution_count": 46,
     "metadata": {},
     "output_type": "execute_result"
    }
   ],
   "source": [
    "out = open('website.md', 'w')\n",
    "out.write('# 財報品質分析資訊整理\\n### 1. 高財報信心公司列表\\n#### 排名\\n')\n",
    "for idx, comp in enumerate(good_list):\n",
    "    out.write('({}) [{}](#{}) {:.3f}\\n'.format(idx + 1, comp, comp, corr[comp]))\n",
    "out.write('#### 評定方式\\n')"
   ]
  },
  {
   "cell_type": "code",
   "execution_count": 47,
   "metadata": {},
   "outputs": [
    {
     "data": {
      "text/plain": [
       "10"
      ]
     },
     "execution_count": 47,
     "metadata": {},
     "output_type": "execute_result"
    }
   ],
   "source": [
    "out.write('### 2. 財報隱匿資訊嫌疑公司列表\\n#### 列表\\n')\n",
    "for comp in bad_list:\n",
    "    out.write('- [{}](#{})\\n'.format(comp, comp))\n",
    "out.write('#### 評定方式\\n')"
   ]
  },
  {
   "cell_type": "code",
   "execution_count": 48,
   "metadata": {},
   "outputs": [],
   "source": [
    "out.write('### 3. 公司數據完整資料\\n#### 目錄\\n[toc]\\n')\n",
    "for comp in chosen_list:\n",
    "    out.write('#### {}\\n全名：{}\\n相關係數：{:.3f}\\n![](https://www.csie.ntu.edu.tw/~b06902097/images_correlated/{}.png)\\n'.format(comp, comp_name[comp], corr[comp], comp))\n",
    "    out.write('市場表現：\\n![](https://www.csie.ntu.edu.tw/~b06902097/images_return/{}.png)\\n'.format(comp))"
   ]
  },
  {
   "cell_type": "code",
   "execution_count": null,
   "metadata": {},
   "outputs": [],
   "source": []
  }
 ],
 "metadata": {
  "kernelspec": {
   "display_name": "Python 3",
   "language": "python",
   "name": "python3"
  },
  "language_info": {
   "codemirror_mode": {
    "name": "ipython",
    "version": 3
   },
   "file_extension": ".py",
   "mimetype": "text/x-python",
   "name": "python",
   "nbconvert_exporter": "python",
   "pygments_lexer": "ipython3",
   "version": "3.7.1"
  }
 },
 "nbformat": 4,
 "nbformat_minor": 2
}
