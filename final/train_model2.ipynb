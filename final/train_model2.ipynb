{
 "cells": [
  {
   "cell_type": "code",
   "execution_count": 35,
   "metadata": {},
   "outputs": [],
   "source": [
    "import pickle\n",
    "import os"
   ]
  },
  {
   "cell_type": "code",
   "execution_count": 36,
   "metadata": {},
   "outputs": [],
   "source": [
    "with open('dic.pkl', 'rb') as f:\n",
    "    dic = pickle.load(f)"
   ]
  },
  {
   "cell_type": "code",
   "execution_count": 59,
   "metadata": {},
   "outputs": [
    {
     "name": "stdout",
     "output_type": "stream",
     "text": [
      "['PEGA', 'CASS', 'COHU', 'BDR', 'HMNY', 'BELFB', 'CDNS', 'KLAC', 'CY', 'XLNX', 'TACT', 'WGNR', 'NVDA', 'CMTL', 'AXE', 'TTWO', 'IT', 'INTC', 'ANEN', 'AMSWA', 'SYMC', 'AMKR', 'SPDC', 'CSCO', 'TLAB', 'SHEN', 'XRX', 'BHE', 'INTT', 'INAP', 'FTR', 'CRAY', 'SMIT', 'GVP', 'OLED', 'CYBE', 'MTSC', 'MCHP', 'ESCC', 'CTL', 'APH', 'LFUS', 'RMTR', 'VSAT', 'LSCC', 'ON', 'TDS', 'PAR', 'AAPL', 'PAYX', 'AXTI', 'EGOV', 'MMS', 'CELL', 'INTU', 'MSI', 'TRT', 'MSFT', 'QUIK', 'INOD', 'DGII', 'CSGS', 'DAIO', 'DDD', 'ASYS', 'WTT', 'EA', 'ITI', 'STCN', 'DIOD', 'NSYS', 'PLT', 'CYMI', 'MU', 'ZIXI', 'KVHI', 'NWK', 'DRCO', 'FICO', 'MSTR', 'IBM', 'CSPI', 'FSII', 'TYL', 'TXN', 'ADBE', 'HLIT', 'ALOT', 'CBB', 'PKE', 'SUPX', 'ADI', 'FARO', 'FFIV', 'EEFT', 'FLEX', 'VECO', 'MKSI', 'AWRE', 'FLIR', 'IAC', 'TSS', 'CIEN', 'TESS', 'MXWL', 'PRST', 'EBIX', 'IEC', 'VSH', 'ASUR', 'ZBRA', 'PCTI', 'TER', 'ANSS', 'TCX', 'EGHT', 'AMD', 'ACCL', 'WDC', 'OSIS', 'CREE', 'PFSW', 'ATEA', 'KLIC', 'NCR', 'CNXN', 'AVX', 'FEIM', 'ATNI', 'TRMB', 'CTSH', 'VIAV']\n"
     ]
    },
    {
     "data": {
      "text/plain": [
       "130"
      ]
     },
     "execution_count": 59,
     "metadata": {},
     "output_type": "execute_result"
    }
   ],
   "source": [
    "lst = os.listdir('CompanyData')\n",
    "orig = list(dic.keys())\n",
    "chosen_list = []\n",
    "delete_list = ['FALC', 'IDT', 'PRCP', 'BBOX', 'EVOL', 'CTS', 'FDC', 'NIHD', 'BRKS', 'KODK', 'OSPN', 'AEIS', 'LGL', 'QADA', 'PCMI', 'INVE', 'ZOOM', 'CACI']\n",
    "for k in orig:\n",
    "    if k in delete_list:\n",
    "        pass\n",
    "    else:\n",
    "        chosen_list.append(k)\n",
    "print(chosen_list)\n",
    "with open('chosen_list.txt', 'w') as f:\n",
    "    for item in chosen_list:\n",
    "        f.write(\"%s\\n\" % item)\n",
    "chosen_list = chosen_list[:-2]\n",
    "n_of_comp = len(chosen_list)\n",
    "n_of_comp"
   ]
  },
  {
   "cell_type": "code",
   "execution_count": 52,
   "metadata": {},
   "outputs": [
    {
     "name": "stdout",
     "output_type": "stream",
     "text": [
      "30\n"
     ]
    }
   ],
   "source": [
    "print(len(dic['AAPL']['LAR']))"
   ]
  },
  {
   "cell_type": "code",
   "execution_count": 37,
   "metadata": {},
   "outputs": [],
   "source": [
    "import numpy as np\n",
    "def get_data(st, ed):\n",
    "    X, Y = [], []\n",
    "    for comp in chosen_list[st : ed]:\n",
    "        for i in range(len(dic[comp]['sentiment_list']) - 1):\n",
    "            X.append(list(dic[comp]['sentiment_list'][i]))\n",
    "            #print(dic[comp]['LAR'][i])\n",
    "            X[-1].append(dic[comp]['LAR'][i])\n",
    "            #X[-1] = np.array(X[-1])\n",
    "            Y.append([dic[comp]['return_rate'][i]])\n",
    "    X, Y = np.array(X), np.array(Y)\n",
    "    return X, Y"
   ]
  },
  {
   "cell_type": "code",
   "execution_count": 60,
   "metadata": {},
   "outputs": [],
   "source": [
    "from sklearn.linear_model import Ridge, LinearRegression\n",
    "def train_linear_regression(X, Y, Xall, Yall):\n",
    "    X = (X - np.mean(Xall, axis = 0)) / np.std(Xall, axis = 0)\n",
    "    clf = Ridge(alpha = 0.1)\n",
    "    clf.fit(X, Y)\n",
    "    #print('training:')\n",
    "    #print('L2 error:\\t', np.sum((clf.predict(X) - Y) ** 2) / Y.shape[0])\n",
    "    #print('score:\\t', clf.score(X, Y))\n",
    "    #print('validation:')\n",
    "    #print('L2 error:\\t', np.sum((clf.predict(Xval) - Yval) ** 2) / Yval.shape[0])\n",
    "    #print('score:\\t', clf.score(Xval, Yval))\n",
    "    r = np.corrcoef(clf.predict(X).reshape(-1), Y.reshape(-1))\n",
    "    rall = np.corrcoef(clf.predict(Xall).reshape(-1), Yall.reshape(-1))\n",
    "    #print('\\nCorrelated Coefficient:\\n', r[0][1], rall[0][1])\n",
    "    pred = []\n",
    "    lenx = Xall.shape[0]\n",
    "    for i in range(n_of_comp):\n",
    "        Xind = (Xall[lenx //  n_of_comp * i: lenx // n_of_comp * (i + 1)] - np.mean(Xall, axis = 0)) / np.std(Xall, axis = 0)\n",
    "        pred.append(clf.predict(Xind).reshape(-1))\n",
    "    pred = np.array(pred)\n",
    "    return clf.coef_, np.array(pred)"
   ]
  },
  {
   "cell_type": "code",
   "execution_count": 48,
   "metadata": {},
   "outputs": [],
   "source": [
    "import numpy as np\n",
    "from keras import regularizers\n",
    "from keras.models import Sequential, load_model\n",
    "from keras.layers.core import Dense, Dropout, Activation\n",
    "from keras.layers import Conv2D, MaxPooling2D, Flatten\n",
    "from keras.optimizers import Adam\n",
    "from keras.layers.normalization import BatchNormalization\n",
    "def train_dnn(X, Y, Xall, Yall):\n",
    "    X = (X - np.mean(Xall, axis = 0)) / np.std(Xall, axis = 0)\n",
    "    X = X.reshape((X.shape[0], X.shape[1], 1))\n",
    "    model = Sequential()\n",
    "    model.add(Dense(128, input_shape = (X.shape[1], 1)))\n",
    "    model.add(Flatten())\n",
    "    model.add(BatchNormalization())\n",
    "    model.add(Dense(128, activation = 'sigmoid'))\n",
    "    model.add(BatchNormalization())\n",
    "    model.add(Dense(1))\n",
    "    model.compile(loss = 'mse', optimizer = Adam(), metrics = [])\n",
    "    model.fit(X, Y, batch_size = 32, epochs = 20)\n",
    "    pred = []\n",
    "    for i in range(n_of_comp):\n",
    "        Xind = (Xall[lenx //  n_of_comp * i: lenx // n_of_comp * (i + 1)] - np.mean(Xall, axis = 0)) / np.std(Xall, axis = 0)\n",
    "        tmp = model.predict(Xind.reshape((Xind.shape[0], Xind.shape[1], 1))).reshape(-1)\n",
    "        pred.append(tmp)\n",
    "    return np.array(pred)"
   ]
  },
  {
   "cell_type": "code",
   "execution_count": 69,
   "metadata": {},
   "outputs": [
    {
     "name": "stdout",
     "output_type": "stream",
     "text": [
      "[[ 1.36022737e-04 -2.88079583e-05 -1.79988438e-04 -1.25449833e-04\n",
      "  -6.80275697e-05 -2.26681534e-04 -3.68875393e-05 -3.84244921e-05\n",
      "   1.79663135e-04]]\n",
      "0.09214236628201361\n"
     ]
    },
    {
     "data": {
      "text/plain": [
       "[(0.6477577926426054, 'KVHI'),\n",
       " (0.5118502744052373, 'FARO'),\n",
       " (0.4893012033946339, 'IT'),\n",
       " (0.4738723409498585, 'KLAC'),\n",
       " (0.4679024407061898, 'MU'),\n",
       " (0.46787843359069864, 'MXWL'),\n",
       " (0.40898265573008613, 'AMSWA'),\n",
       " (0.3767818456873535, 'ANSS'),\n",
       " (0.3747916349380907, 'ASUR'),\n",
       " (0.35961528816641675, 'CBB'),\n",
       " (0.3502032852787901, 'OLED'),\n",
       " (0.34695944121394556, 'APH'),\n",
       " (0.3449460030658049, 'ON'),\n",
       " (0.34455032920059997, 'MSI'),\n",
       " (0.3311018632916062, 'AMD'),\n",
       " (0.31725018029169344, 'HMNY'),\n",
       " (0.3066730468689838, 'IAC'),\n",
       " (0.30342127012369147, 'FICO'),\n",
       " (0.3018771453121539, 'SUPX'),\n",
       " (0.29697210626308795, 'ALOT'),\n",
       " (0.29435525010981006, 'BELFB'),\n",
       " (0.28750285406418574, 'HLIT'),\n",
       " (0.2794735661218102, 'INTT'),\n",
       " (0.27830141453412055, 'AMKR'),\n",
       " (0.27452193891623355, 'LSCC'),\n",
       " (0.2722633933854847, 'PEGA'),\n",
       " (0.2670199636519549, 'SHEN'),\n",
       " (0.2632446514415933, 'ADBE'),\n",
       " (0.2623027210622216, 'TXN'),\n",
       " (0.2545566812587478, 'MCHP'),\n",
       " (0.2437744108082668, 'MKSI'),\n",
       " (0.2340646404910954, 'AAPL'),\n",
       " (0.23271396393603158, 'RMTR'),\n",
       " (0.2234281975878752, 'WDC'),\n",
       " (0.223204516758074, 'EGOV'),\n",
       " (0.22197058380032506, 'INOD'),\n",
       " (0.22194936739321433, 'NCR'),\n",
       " (0.21639955735846397, 'MTSC'),\n",
       " (0.21509629693917143, 'XRX'),\n",
       " (0.21048957620922876, 'FSII'),\n",
       " (0.20980391835004408, 'CYBE'),\n",
       " (0.20633610534106026, 'TYL'),\n",
       " (0.19904985239095804, 'DDD'),\n",
       " (0.19694099778786123, 'PAYX'),\n",
       " (0.19438521250929724, 'EGHT'),\n",
       " (0.19150324033408295, 'MMS'),\n",
       " (0.18817182444992106, 'EBIX'),\n",
       " (0.18506483423005007, 'DGII'),\n",
       " (0.17632946115804735, 'CELL'),\n",
       " (0.17227220415285105, 'DRCO'),\n",
       " (0.16930670219254496, 'QUIK'),\n",
       " (0.16400811017610553, 'NVDA'),\n",
       " (0.16227469151675286, 'AWRE'),\n",
       " (0.15523720526691467, 'CMTL'),\n",
       " (0.153876294014327, 'CRAY'),\n",
       " (0.15019660611450242, 'WTT'),\n",
       " (0.1463462750574394, 'PRST'),\n",
       " (0.13797125886864087, 'INVE'),\n",
       " (0.13402205959866698, 'CYMI'),\n",
       " (0.12892967372915, 'CREE'),\n",
       " (0.12539421878035348, 'SPDC'),\n",
       " (0.1202016893272581, 'EA'),\n",
       " (0.11991269441189206, 'ESCC'),\n",
       " (0.11762401691394889, 'PKE'),\n",
       " (0.11407890013089961, 'FTR'),\n",
       " (0.10830032902934314, 'BHE'),\n",
       " (0.10439228641501369, 'KLIC'),\n",
       " (0.09986423126604382, 'DIOD'),\n",
       " (0.09932434376718298, 'MSTR'),\n",
       " (0.0992490870781147, 'CASS'),\n",
       " (0.09715907418436155, 'TCX'),\n",
       " (0.09238445803304249, 'CY'),\n",
       " (0.08584935790879046, 'XLNX'),\n",
       " (0.08288795519282675, 'ADI'),\n",
       " (0.07936001551142947, 'CSPI'),\n",
       " (0.07197718161604445, 'STCN'),\n",
       " (0.07178762749227385, 'ZIXI'),\n",
       " (0.06927217118369691, 'AXTI'),\n",
       " (0.06698983408200206, 'TTWO'),\n",
       " (0.06457346203906443, 'PAR'),\n",
       " (0.062200777137600034, 'MSFT'),\n",
       " (0.060562042018616175, 'OSIS'),\n",
       " (0.05377137777364819, 'INAP'),\n",
       " (0.05136135905202868, 'TSS'),\n",
       " (0.04477637012260708, 'INTU'),\n",
       " (0.04293000593544902, 'TACT'),\n",
       " (0.03956106673503239, 'IEC'),\n",
       " (0.023662564729117576, 'EEFT'),\n",
       " (0.02185347003431273, 'AXE'),\n",
       " (0.018721260935758342, 'SYMC'),\n",
       " (0.017256537221024222, 'CIEN'),\n",
       " (0.012437618043339578, 'CACI'),\n",
       " (-0.0020585445450497625, 'WGNR'),\n",
       " (-0.008584711306852611, 'VSAT'),\n",
       " (-0.010946467180169348, 'FFIV'),\n",
       " (-0.026888944259166162, 'VECO'),\n",
       " (-0.031196027321455072, 'CDNS'),\n",
       " (-0.03406164647110529, 'PLT'),\n",
       " (-0.0379424123383672, 'TRT'),\n",
       " (-0.04634290871262796, 'VSH'),\n",
       " (-0.059997153222982734, 'CSCO'),\n",
       " (-0.07276676341870683, 'INTC'),\n",
       " (-0.07562701790640204, 'CTL'),\n",
       " (-0.07895037735567653, 'CSGS'),\n",
       " (-0.07996283272502172, 'ASYS'),\n",
       " (-0.09409314478046693, 'TLAB'),\n",
       " (-0.09634038067084996, 'TER'),\n",
       " (-0.10331866076964988, 'DAIO'),\n",
       " (-0.1079232700383281, 'SMIT'),\n",
       " (-0.11167576340606193, 'NSYS'),\n",
       " (-0.11519259159752326, 'TESS'),\n",
       " (-0.1340452570884954, 'COHU'),\n",
       " (-0.13409233355531508, 'FLEX'),\n",
       " (-0.18388080649925415, 'AVX'),\n",
       " (-0.19137001542460938, 'GVP'),\n",
       " (-0.1956935162280602, 'LFUS'),\n",
       " (-0.20140231181231902, 'FLIR'),\n",
       " (-0.2270226118714738, 'ATEA'),\n",
       " (-0.22780818748774112, 'ACCL'),\n",
       " (-0.23283121259888848, 'PFSW'),\n",
       " (-0.24343378825007475, 'ZOOM'),\n",
       " (-0.2653483588564405, 'TDS'),\n",
       " (-0.2686589858854945, 'BDR'),\n",
       " (-0.32061000293284214, 'CNXN'),\n",
       " (-0.336137566909004, 'ANEN'),\n",
       " (-0.37158627407013306, 'IBM'),\n",
       " (-0.39802658141618924, 'PCTI'),\n",
       " (-0.4142451999182065, 'ZBRA'),\n",
       " (-0.4386372127517574, 'ITI'),\n",
       " (-0.6038185800462414, 'NWK')]"
      ]
     },
     "execution_count": 69,
     "metadata": {},
     "output_type": "execute_result"
    }
   ],
   "source": [
    "Xall, Yall = get_data(0, n_of_comp)\n",
    "lenx = Xall.shape[0]\n",
    "K = 15\n",
    "pred = np.zeros((n_of_comp, 29))\n",
    "coef = np.zeros((1, 9))\n",
    "for i in range(K):\n",
    "    X, Y = get_data(n_of_comp // K * i, n_of_comp // K * (i + 1))\n",
    "    c, p = train_linear_regression(X, Y, Xall, Yall)\n",
    "    pred += p\n",
    "    coef += c\n",
    "pred /= K\n",
    "coef /= K\n",
    "print(coef)\n",
    "r = [np.corrcoef(pred[i], Yall[lenx // n_of_comp * i: lenx // n_of_comp * (i + 1)].reshape(-1))[0][1] for i in range(n_of_comp)]\n",
    "companies = list(dic.keys())\n",
    "rank = [(r[i], companies[i]) for i in range(n_of_comp)]\n",
    "rank = sorted(rank, reverse = True)\n",
    "print(np.mean(np.array(r), axis = None))\n",
    "rank"
   ]
  },
  {
   "cell_type": "code",
   "execution_count": 72,
   "metadata": {},
   "outputs": [
    {
     "name": "stdout",
     "output_type": "stream",
     "text": [
      "(29,) (29,)\n",
      "[ 0.00350502  0.00626423  0.00229886  0.00411485  0.0025358   0.00648556\n",
      "  0.00063377 -0.00304608  0.00097146  0.00674944 -0.00044346 -0.00025961\n",
      "  0.0007931  -0.00044673  0.00021591  0.00042771 -0.00061471 -0.00106058\n",
      " -0.00260742 -0.00163162  0.00149599 -0.00184949 -0.00367856 -0.00264184\n",
      " -0.00068736  0.00122591  0.00064905  0.00429821 -0.00108959]\n"
     ]
    },
    {
     "data": {
      "image/png": "[encoded data removed]",
      "text/plain": [
       "<Figure size 432x288 with 1 Axes>"
      ]
     },
     "metadata": {
      "needs_background": "light"
     },
     "output_type": "display_data"
    }
   ],
   "source": [
    "from matplotlib import pyplot as plt\n",
    "idx = 77\n",
    "X = pred[idx]\n",
    "Y = Yall[29 * idx: 29 * (idx + 1)].reshape(-1)\n",
    "print(X.shape, Y.shape)\n",
    "print(Y)\n",
    "plt.scatter(X, Y)\n",
    "plt.xlim(0, 0.002)\n",
    "plt.show()"
   ]
  },
  {
   "cell_type": "code",
   "execution_count": 76,
   "metadata": {},
   "outputs": [
    {
     "name": "stdout",
     "output_type": "stream",
     "text": [
      "0.14017309630198257\n"
     ]
    },
    {
     "data": {
      "text/plain": [
       "[(0.7740984355711742, 'ZIXI'),\n",
       " (0.6003534964626113, 'BDR'),\n",
       " (0.5005233885598643, 'CRAY'),\n",
       " (0.48618814130389726, 'TCX'),\n",
       " (0.4701409244712629, 'CSPI'),\n",
       " (0.453471354858061, 'AXTI'),\n",
       " (0.427691622451155, 'DAIO'),\n",
       " (0.4053843781576683, 'OSIS'),\n",
       " (0.3927379786221281, 'VSAT'),\n",
       " (0.3877553514845178, 'ZBRA'),\n",
       " (0.38254135643364046, 'NCR'),\n",
       " (0.3807212868891, 'ALOT'),\n",
       " (0.3555409749159538, 'KLIC'),\n",
       " (0.3504316657453872, 'CELL'),\n",
       " (0.34920725629841354, 'AWRE'),\n",
       " (0.3482113433396488, 'XLNX'),\n",
       " (0.3398447140780127, 'APH'),\n",
       " (0.33869048143859465, 'TER'),\n",
       " (0.3350990140696757, 'CACI'),\n",
       " (0.3277562620562466, 'ITI'),\n",
       " (0.32742594534492486, 'PCTI'),\n",
       " (0.32362858055440735, 'INAP'),\n",
       " (0.3139827397344916, 'NSYS'),\n",
       " (0.3134904616735456, 'QUIK'),\n",
       " (0.3057480357744618, 'FSII'),\n",
       " (0.3038052643301045, 'EGOV'),\n",
       " (0.27821815240121206, 'TYL'),\n",
       " (0.2748016193502697, 'ON'),\n",
       " (0.2721328537522105, 'GVP'),\n",
       " (0.26554130574652995, 'AMSWA'),\n",
       " (0.2624942596929694, 'MSFT'),\n",
       " (0.2617035570280507, 'EEFT'),\n",
       " (0.2612213419561421, 'FLEX'),\n",
       " (0.24981450642110098, 'CTL'),\n",
       " (0.2338229983496555, 'INTU'),\n",
       " (0.22786013666672456, 'EA'),\n",
       " (0.22652103583490776, 'ASYS'),\n",
       " (0.2211928071900606, 'HMNY'),\n",
       " (0.21900579213783047, 'TLAB'),\n",
       " (0.21779757332777028, 'ATEA'),\n",
       " (0.2167846247560688, 'CSGS'),\n",
       " (0.2132976642207958, 'XRX'),\n",
       " (0.20752795631980256, 'MKSI'),\n",
       " (0.20578529473162968, 'CY'),\n",
       " (0.20467740325275843, 'AVX'),\n",
       " (0.20152882398669889, 'CMTL'),\n",
       " (0.19059697158209088, 'TESS'),\n",
       " (0.185836831005768, 'BELFB'),\n",
       " (0.18229943784245228, 'VSH'),\n",
       " (0.1807172716713247, 'MCHP'),\n",
       " (0.18055491879944208, 'INVE'),\n",
       " (0.17725353714419234, 'ESCC'),\n",
       " (0.17697370368043192, 'TXN'),\n",
       " (0.1755860868629083, 'ASUR'),\n",
       " (0.16448949408711389, 'CSCO'),\n",
       " (0.16001887575211546, 'MU'),\n",
       " (0.1573629749531149, 'BHE'),\n",
       " (0.15526444789756938, 'INTC'),\n",
       " (0.1532786123634838, 'WDC'),\n",
       " (0.1458079358319068, 'INOD'),\n",
       " (0.14406247170480213, 'ANSS'),\n",
       " (0.14081504142378487, 'MTSC'),\n",
       " (0.1376976748381227, 'KLAC'),\n",
       " (0.13106136341101846, 'MSI'),\n",
       " (0.12959530318773332, 'ADBE'),\n",
       " (0.1295449657135169, 'PAYX'),\n",
       " (0.12635201460058765, 'DDD'),\n",
       " (0.11777698965295547, 'AAPL'),\n",
       " (0.11103677253773835, 'IBM'),\n",
       " (0.10943981612322287, 'CIEN'),\n",
       " (0.10887120511108041, 'EGHT'),\n",
       " (0.10554975433964736, 'TRT'),\n",
       " (0.08885054016152086, 'KVHI'),\n",
       " (0.0790834978244773, 'PFSW'),\n",
       " (0.07604765178112019, 'INTT'),\n",
       " (0.07430516782767202, 'ACCL'),\n",
       " (0.07422577128200508, 'CYBE'),\n",
       " (0.07415737305929218, 'CREE'),\n",
       " (0.07345926629842235, 'TTWO'),\n",
       " (0.07040975041475799, 'TSS'),\n",
       " (0.0687484229477612, 'LSCC'),\n",
       " (0.06822915496941614, 'DIOD'),\n",
       " (0.06671619772124047, 'HLIT'),\n",
       " (0.06578904357590472, 'VECO'),\n",
       " (0.06519663153724281, 'PRST'),\n",
       " (0.06297649510023583, 'FARO'),\n",
       " (0.05852828929587938, 'IEC'),\n",
       " (0.056145644124471095, 'CASS'),\n",
       " (0.04944939056464939, 'NVDA'),\n",
       " (0.0450324960089809, 'PKE'),\n",
       " (0.0443611158738053, 'WTT'),\n",
       " (0.043708529461614694, 'MSTR'),\n",
       " (0.040661259713241575, 'OLED'),\n",
       " (0.039912008070913337, 'DGII'),\n",
       " (0.03932472715118909, 'FLIR'),\n",
       " (0.03839142573718433, 'AMD'),\n",
       " (0.0376545934485987, 'FTR'),\n",
       " (0.03656184259630063, 'LFUS'),\n",
       " (0.03541057604417258, 'PEGA'),\n",
       " (0.03343884521018733, 'SHEN'),\n",
       " (0.033368994142054166, 'CDNS'),\n",
       " (0.0325411642558075, 'SPDC'),\n",
       " (0.031159174560635414, 'NWK'),\n",
       " (0.030748084389930715, 'IAC'),\n",
       " (0.020438473856158174, 'PAR'),\n",
       " (0.01913156621646836, 'ZOOM'),\n",
       " (0.013712403858793411, 'SMIT'),\n",
       " (0.011075525075137805, 'ADI'),\n",
       " (0.005317081133482213, 'TACT'),\n",
       " (0.004596730114352037, 'MXWL'),\n",
       " (-0.005303675863002379, 'SUPX'),\n",
       " (-0.01636993066797143, 'IT'),\n",
       " (-0.020938079260160634, 'DRCO'),\n",
       " (-0.026528323895454585, 'TDS'),\n",
       " (-0.03905448292555159, 'AXE'),\n",
       " (-0.045220484010308724, 'WGNR'),\n",
       " (-0.055536609175907976, 'MMS'),\n",
       " (-0.05876792003841046, 'RMTR'),\n",
       " (-0.06399500355502996, 'ANEN'),\n",
       " (-0.06975652565093418, 'CBB'),\n",
       " (-0.07198115940647318, 'COHU'),\n",
       " (-0.08918843932423821, 'FICO'),\n",
       " (-0.11753656567625063, 'CYMI'),\n",
       " (-0.11779200555588887, 'CNXN'),\n",
       " (-0.17219378072535776, 'PLT'),\n",
       " (-0.21809464565537418, 'SYMC'),\n",
       " (-0.23073390769821972, 'EBIX'),\n",
       " (-0.2416066942156707, 'FFIV'),\n",
       " (-0.30549519506819106, 'STCN'),\n",
       " (-0.5143135916392055, 'AMKR')]"
      ]
     },
     "execution_count": 76,
     "metadata": {},
     "output_type": "execute_result"
    }
   ],
   "source": [
    "r = np.load('rnn_r2.npy')\n",
    "companies = list(dic.keys())\n",
    "rank = [(r[i], companies[i]) for i in range(n_of_comp)]\n",
    "rank = sorted(rank, reverse = True)\n",
    "print(np.mean(r, axis = None))\n",
    "rank"
   ]
  },
  {
   "cell_type": "code",
   "execution_count": 79,
   "metadata": {},
   "outputs": [
    {
     "name": "stdout",
     "output_type": "stream",
     "text": [
      "4\n"
     ]
    }
   ],
   "source": [
    "for idx, i in enumerate(dic):\n",
    "    if i == 'BDR':\n",
    "        print(idx)\n",
    "        break"
   ]
  },
  {
   "cell_type": "code",
   "execution_count": 80,
   "metadata": {},
   "outputs": [
    {
     "name": "stdout",
     "output_type": "stream",
     "text": [
      "(29,) (29,)\n",
      "[-0.00187578  0.00112957 -0.00108627 -0.00152981  0.00547754  0.00814817\n",
      "  0.01983186  0.00343789  0.00904961 -0.00013839  0.02682201 -0.00017811\n",
      " -0.00052995  0.00062291  0.00344295 -0.00669658 -0.00060398  0.00272898\n",
      " -0.00101358 -0.00450143  0.00095613  0.00175272 -0.00048158 -0.00294165\n",
      "  0.00513667  0.01168248 -0.00568111 -0.00259589  0.02084343]\n"
     ]
    },
    {
     "data": {
      "text/plain": [
       "<module 'matplotlib.pyplot' from '/Users/howard/anaconda3/lib/python3.7/site-packages/matplotlib/pyplot.py'>"
      ]
     },
     "execution_count": 80,
     "metadata": {},
     "output_type": "execute_result"
    },
    {
     "data": {
      "image/png": "[encoded data removed]",
      "text/plain": [
       "<Figure size 432x288 with 1 Axes>"
      ]
     },
     "metadata": {
      "needs_background": "light"
     },
     "output_type": "display_data"
    }
   ],
   "source": [
    "from matplotlib import pyplot as plt\n",
    "idx = 4\n",
    "X = np.load('rnn_pred2.npy')\n",
    "X = X[idx]\n",
    "Xall, Yall = get_data(0, n_of_comp)\n",
    "Y = Yall[29 * idx: 29 * (idx + 1)].reshape(-1)\n",
    "print(X.shape, Y.shape)\n",
    "print(Y)\n",
    "plt.scatter(X, Y)\n",
    "plt"
   ]
  },
  {
   "cell_type": "code",
   "execution_count": 82,
   "metadata": {},
   "outputs": [
    {
     "ename": "KeyError",
     "evalue": "'msci'",
     "output_type": "error",
     "traceback": [
      "\u001b[0;31m---------------------------------------------------------------------------\u001b[0m",
      "\u001b[0;31mKeyError\u001b[0m                                  Traceback (most recent call last)",
      "\u001b[0;32m<ipython-input-82-d7febcb3f7b4>\u001b[0m in \u001b[0;36m<module>\u001b[0;34m\u001b[0m\n\u001b[0;32m----> 1\u001b[0;31m \u001b[0mprint\u001b[0m\u001b[0;34m(\u001b[0m\u001b[0mdic\u001b[0m\u001b[0;34m[\u001b[0m\u001b[0;34m'AAPL'\u001b[0m\u001b[0;34m]\u001b[0m\u001b[0;34m[\u001b[0m\u001b[0;34m'msci'\u001b[0m\u001b[0;34m]\u001b[0m\u001b[0;34m)\u001b[0m\u001b[0;34m\u001b[0m\u001b[0;34m\u001b[0m\u001b[0m\n\u001b[0m",
      "\u001b[0;31mKeyError\u001b[0m: 'msci'"
     ]
    }
   ],
   "source": [
    "print(dic['AAPL']['msci'])"
   ]
  },
  {
   "cell_type": "code",
   "execution_count": null,
   "metadata": {},
   "outputs": [],
   "source": []
  }
 ],
 "metadata": {
  "kernelspec": {
   "display_name": "Python 3",
   "language": "python",
   "name": "python3"
  },
  "language_info": {
   "codemirror_mode": {
    "name": "ipython",
    "version": 3
   },
   "file_extension": ".py",
   "mimetype": "text/x-python",
   "name": "python",
   "nbconvert_exporter": "python",
   "pygments_lexer": "ipython3",
   "version": "3.7.1"
  }
 },
 "nbformat": 4,
 "nbformat_minor": 2
}
