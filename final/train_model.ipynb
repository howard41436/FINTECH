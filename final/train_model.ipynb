{
 "cells": [
  {
   "cell_type": "code",
   "execution_count": 2,
   "metadata": {},
   "outputs": [],
   "source": [
    "import pickle\n",
    "import os"
   ]
  },
  {
   "cell_type": "code",
   "execution_count": 3,
   "metadata": {},
   "outputs": [],
   "source": [
    "with open('dic.pkl', 'rb') as f:\n",
    "    dic = pickle.load(f)"
   ]
  },
  {
   "cell_type": "code",
   "execution_count": 4,
   "metadata": {},
   "outputs": [
    {
     "name": "stdout",
     "output_type": "stream",
     "text": [
      "['INVE', 'PEGA', 'CASS', 'COHU', 'BDR', 'HMNY', 'BELFB', 'CDNS', 'KLAC', 'CY', 'XLNX', 'ZOOM', 'TACT', 'WGNR', 'NVDA', 'CMTL', 'AXE', 'TTWO', 'IT', 'INTC', 'ANEN', 'AMSWA', 'SYMC', 'AMKR', 'SPDC', 'CSCO', 'TLAB', 'SHEN', 'XRX', 'BHE', 'INTT', 'INAP', 'FTR', 'CRAY', 'SMIT', 'GVP', 'OLED', 'CYBE', 'MTSC', 'MCHP', 'ESCC', 'CTL', 'APH', 'LFUS', 'RMTR', 'VSAT', 'LSCC', 'ON', 'TDS', 'PAR', 'AAPL', 'PAYX', 'AXTI', 'EGOV', 'MMS', 'CELL', 'INTU', 'MSI', 'TRT', 'MSFT', 'QUIK', 'INOD', 'DGII', 'CSGS', 'DAIO', 'DDD', 'ASYS', 'WTT', 'EA', 'ITI', 'STCN', 'DIOD', 'NSYS', 'PLT', 'CYMI', 'MU', 'ZIXI', 'KVHI', 'NWK', 'DRCO', 'FICO', 'MSTR', 'IBM', 'CSPI', 'FSII', 'TYL', 'TXN', 'ADBE', 'HLIT', 'ALOT', 'CBB', 'PKE', 'SUPX', 'ADI', 'FARO', 'FFIV', 'EEFT', 'FLEX', 'VECO', 'MKSI', 'AWRE', 'CACI', 'FLIR', 'IAC', 'TSS', 'CIEN', 'TESS', 'MXWL', 'PRST', 'EBIX', 'IEC', 'VSH', 'ASUR', 'ZBRA', 'PCTI', 'TER', 'ANSS', 'TCX', 'EGHT', 'AMD', 'ACCL', 'WDC', 'OSIS', 'CREE', 'PFSW', 'ATEA', 'KLIC', 'NCR', 'CNXN', 'AVX', 'FEIM', 'ATNI', 'TRMB', 'CTSH', 'VIAV']\n",
      "135\n"
     ]
    }
   ],
   "source": [
    "lst = os.listdir('CompanyData')\n",
    "orig = list(dic.keys())\n",
    "chosen_list = []\n",
    "delete_list = ['FALC', 'IDT', 'PRCP', 'BBOX', 'EVOL', 'CTS', 'FDC', 'NIHD', 'BRKS', 'KODK', 'OSPN', 'AEIS', 'LGL', 'QADA', 'PCMI']\n",
    "for k in orig:\n",
    "    if '{}output.xls'.format(k) not in lst or k in delete_list:\n",
    "        del dic[k]\n",
    "    else:\n",
    "        chosen_list.append(k)\n",
    "print(chosen_list)\n",
    "print(len(chosen_list))\n",
    "with open('chosen_list.txt', 'w') as f:\n",
    "    for item in chosen_list:\n",
    "        f.write(\"%s\\n\" % item)\n",
    "with open('dic.pkl', 'wb') as f:\n",
    "    pickle.dump(dic, f)"
   ]
  },
  {
   "cell_type": "code",
   "execution_count": 28,
   "metadata": {},
   "outputs": [
    {
     "name": "stdout",
     "output_type": "stream",
     "text": [
      "[0.012189404594467886, 0.005782153461478356, 0.01844038130957962, 0.005625879043600563, 0.003125488357555868, 0.0023441162681669013, 0.003438037193311455, 0.004219409282700422]\n"
     ]
    }
   ],
   "source": [
    "print(dic['AAPL']['sentiment_list'][0])"
   ]
  },
  {
   "cell_type": "code",
   "execution_count": 5,
   "metadata": {},
   "outputs": [],
   "source": [
    "n_of_comp = len(chosen_list)"
   ]
  },
  {
   "cell_type": "code",
   "execution_count": 14,
   "metadata": {},
   "outputs": [],
   "source": [
    "import numpy as np\n",
    "def get_data(st, ed):\n",
    "    X, Y = [], []\n",
    "    companies = list(dic.keys())\n",
    "    for comp in companies[st : ed]:\n",
    "        for i in range(len(dic[comp]['sentiment_list']) - 1):\n",
    "            X.append(dic[comp]['sentiment_list'][i])\n",
    "            Y.append([dic[comp]['return_rate'][i]])\n",
    "    X, Y = np.array(X), np.array(Y)\n",
    "    return X, Y"
   ]
  },
  {
   "cell_type": "code",
   "execution_count": 73,
   "metadata": {},
   "outputs": [],
   "source": [
    "from sklearn.linear_model import Ridge, LinearRegression\n",
    "def train_linear_regression(X, Y, Xall, Yall):\n",
    "    X = (X - np.mean(Xall, axis = 0)) / np.std(Xall, axis = 0)\n",
    "    clf = Ridge(alpha = 0.1)\n",
    "    clf.fit(X, Y)\n",
    "    #print('training:')\n",
    "    #print('L2 error:\\t', np.sum((clf.predict(X) - Y) ** 2) / Y.shape[0])\n",
    "    #print('score:\\t', clf.score(X, Y))\n",
    "    #print('validation:')\n",
    "    #print('L2 error:\\t', np.sum((clf.predict(Xval) - Yval) ** 2) / Yval.shape[0])\n",
    "    #print('score:\\t', clf.score(Xval, Yval))\n",
    "    r = np.corrcoef(clf.predict(X).reshape(-1), Y.reshape(-1))\n",
    "    rall = np.corrcoef(clf.predict(Xall).reshape(-1), Yall.reshape(-1))\n",
    "    #print('\\nCorrelated Coefficient:\\n', r[0][1], rall[0][1])\n",
    "    pred = []\n",
    "    lenx = Xall.shape[0]\n",
    "    for i in range(n_of_comp):\n",
    "        #Xind = Xall[lenx //  n_of_comp * i: lenx // n_of_comp * (i + 1)]\n",
    "        Xind = (Xall[lenx //  n_of_comp * i: lenx // n_of_comp * (i + 1)] - np.mean(Xall, axis = 0)) / np.std(Xall, axis = 0)\n",
    "        pred.append(clf.predict(Xind).reshape(-1))\n",
    "    return clf.coef_, np.array(pred)"
   ]
  },
  {
   "cell_type": "code",
   "execution_count": 10,
   "metadata": {},
   "outputs": [],
   "source": [
    "import numpy as np\n",
    "from keras import regularizers\n",
    "from keras.models import Sequential, load_model\n",
    "from keras.layers.core import Dense, Dropout, Activation\n",
    "from keras.layers import Conv2D, MaxPooling2D, Flatten\n",
    "from keras.optimizers import Adam\n",
    "from keras.layers.normalization import BatchNormalization\n",
    "def train_dnn(X, Y, Xall, Yall):\n",
    "    X = (X - np.mean(Xall, axis = 0)) / np.std(Xall, axis = 0)\n",
    "    X = X.reshape((X.shape[0], X.shape[1], 1))\n",
    "    model = Sequential()\n",
    "    model.add(Dense(128, input_shape = (X.shape[1], 1)))\n",
    "    model.add(Flatten())\n",
    "    model.add(BatchNormalization())\n",
    "    model.add(Dense(128, activation = 'sigmoid'))\n",
    "    model.add(BatchNormalization())\n",
    "    model.add(Dense(1))\n",
    "    model.compile(loss = 'mse', optimizer = Adam(), metrics = [])\n",
    "    model.fit(X, Y, batch_size = 32, epochs = 20)\n",
    "    pred = []\n",
    "    for i in range(n_of_comp):\n",
    "        Xind = (Xall[lenx //  n_of_comp * i: lenx // n_of_comp * (i + 1)] - np.mean(Xall, axis = 0)) / np.std(Xall, axis = 0)\n",
    "        tmp = model.predict(Xind.reshape((Xind.shape[0], Xind.shape[1], 1))).reshape(-1)\n",
    "        pred.append(tmp)\n",
    "    return np.array(pred)"
   ]
  },
  {
   "cell_type": "code",
   "execution_count": 74,
   "metadata": {},
   "outputs": [
    {
     "name": "stdout",
     "output_type": "stream",
     "text": [
      "0.06422792883126262\n"
     ]
    },
    {
     "data": {
      "text/plain": [
       "[(0.5703689625500235, 'DRCO'),\n",
       " (0.5215544207524647, 'CTSH'),\n",
       " (0.47600184544228014, 'CY'),\n",
       " (0.47534822741616733, 'AMD'),\n",
       " (0.451280922917782, 'KVHI'),\n",
       " (0.40110584731868815, 'ANEN'),\n",
       " (0.4010646840316676, 'FTR'),\n",
       " (0.3888754899605384, 'MSFT'),\n",
       " (0.3769420175365108, 'RMTR'),\n",
       " (0.3632997021167672, 'AMKR'),\n",
       " (0.3621568807144643, 'CASS'),\n",
       " (0.34497823245834575, 'EEFT'),\n",
       " (0.33545083854888863, 'SUPX'),\n",
       " (0.33521908336132644, 'INTU'),\n",
       " (0.33384330598928685, 'MTSC'),\n",
       " (0.3187883947511041, 'CSCO'),\n",
       " (0.31787964812563246, 'TESS'),\n",
       " (0.30859578121368236, 'TER'),\n",
       " (0.2958201671346227, 'PAR'),\n",
       " (0.2877628658698768, 'CSGS'),\n",
       " (0.28710962570399584, 'IEC'),\n",
       " (0.2846180019350382, 'HLIT'),\n",
       " (0.2771070689549062, 'IBM'),\n",
       " (0.27496401108710106, 'ALOT'),\n",
       " (0.26290304192487546, 'MSTR'),\n",
       " (0.25607007427450995, 'INVE'),\n",
       " (0.24627149740163176, 'CELL'),\n",
       " (0.24201580929216907, 'EGOV'),\n",
       " (0.23901793731654752, 'IAC'),\n",
       " (0.236704359036741, 'ZIXI'),\n",
       " (0.23249129470791813, 'AXTI'),\n",
       " (0.22855471867021948, 'TDS'),\n",
       " (0.2279384974470186, 'OSIS'),\n",
       " (0.22670351887332485, 'PFSW'),\n",
       " (0.22644418790761328, 'VIAV'),\n",
       " (0.22230483198552695, 'COHU'),\n",
       " (0.21659626477930402, 'WTT'),\n",
       " (0.2089918735570348, 'TXN'),\n",
       " (0.2075557301075985, 'TTWO'),\n",
       " (0.20570326338603925, 'ITI'),\n",
       " (0.20281471898967254, 'BELFB'),\n",
       " (0.197285327477476, 'MCHP'),\n",
       " (0.19222784990447375, 'DAIO'),\n",
       " (0.18956441982084335, 'CBB'),\n",
       " (0.1808653152541734, 'MSI'),\n",
       " (0.17913683607234487, 'GVP'),\n",
       " (0.17661959010156983, 'FARO'),\n",
       " (0.17519072265902863, 'ADBE'),\n",
       " (0.1648850780150185, 'PEGA'),\n",
       " (0.1637142493251358, 'BHE'),\n",
       " (0.16135317418291864, 'FEIM'),\n",
       " (0.15314963648511176, 'KLIC'),\n",
       " (0.14800652453034177, 'DGII'),\n",
       " (0.14780538775573243, 'ACCL'),\n",
       " (0.1425398274155124, 'AXE'),\n",
       " (0.1315271214754874, 'TLAB'),\n",
       " (0.12620602080698676, 'ASUR'),\n",
       " (0.12193684146013109, 'INTT'),\n",
       " (0.11692265036547451, 'INOD'),\n",
       " (0.1096222955287377, 'LSCC'),\n",
       " (0.10614635807255955, 'CTL'),\n",
       " (0.1033870492514678, 'TYL'),\n",
       " (0.1029417750440813, 'ZOOM'),\n",
       " (0.10204557230868848, 'CDNS'),\n",
       " (0.1002242616023091, 'CSPI'),\n",
       " (0.09062340266182103, 'NWK'),\n",
       " (0.08901035221008917, 'SMIT'),\n",
       " (0.0802331393771086, 'VECO'),\n",
       " (0.07890684769571325, 'STCN'),\n",
       " (0.07311462939170102, 'WDC'),\n",
       " (0.07131571820285805, 'FFIV'),\n",
       " (0.06708152950501745, 'NSYS'),\n",
       " (0.06582306956645455, 'TRT'),\n",
       " (0.06053965435762185, 'PLT'),\n",
       " (0.06031087991862294, 'FLIR'),\n",
       " (0.050890475279144906, 'MMS'),\n",
       " (0.04783979565041268, 'INAP'),\n",
       " (0.04740094443079847, 'ATEA'),\n",
       " (0.03574221334558189, 'NVDA'),\n",
       " (0.031605220662727106, 'ZBRA'),\n",
       " (0.026142047723898637, 'MXWL'),\n",
       " (0.026035636547373734, 'TSS'),\n",
       " (0.014797818490785531, 'OLED'),\n",
       " (0.005893547641178372, 'AMSWA'),\n",
       " (-0.00021456836509866974, 'AVX'),\n",
       " (-0.012430760200832175, 'CACI'),\n",
       " (-0.02018264574371459, 'VSH'),\n",
       " (-0.023535472556167673, 'PAYX'),\n",
       " (-0.03263646881959244, 'EA'),\n",
       " (-0.03352708681516042, 'PKE'),\n",
       " (-0.033899465644099985, 'BDR'),\n",
       " (-0.042477656428107705, 'SPDC'),\n",
       " (-0.04760225420616598, 'DDD'),\n",
       " (-0.04814210305159806, 'PRST'),\n",
       " (-0.05566532803633319, 'INTC'),\n",
       " (-0.05573640831028765, 'AAPL'),\n",
       " (-0.05623148525525703, 'PCTI'),\n",
       " (-0.06171955977559916, 'MKSI'),\n",
       " (-0.06653458779725185, 'QUIK'),\n",
       " (-0.07438640187857805, 'CRAY'),\n",
       " (-0.08282056455192344, 'XRX'),\n",
       " (-0.08714313659969558, 'AWRE'),\n",
       " (-0.0891487140969293, 'CMTL'),\n",
       " (-0.09330659082145451, 'IT'),\n",
       " (-0.09702661115804566, 'LFUS'),\n",
       " (-0.1100300729902477, 'XLNX'),\n",
       " (-0.12009555709001105, 'KLAC'),\n",
       " (-0.1208830319894798, 'CREE'),\n",
       " (-0.13511072765431192, 'FLEX'),\n",
       " (-0.14300680562778864, 'ADI'),\n",
       " (-0.1461542463086534, 'ASYS'),\n",
       " (-0.14760512676225623, 'CYMI'),\n",
       " (-0.16174291793423637, 'TRMB'),\n",
       " (-0.16896033239509478, 'EBIX'),\n",
       " (-0.17186773371295996, 'SHEN'),\n",
       " (-0.17847294842171915, 'VSAT'),\n",
       " (-0.17971825230632976, 'ESCC'),\n",
       " (-0.1808832112512206, 'APH'),\n",
       " (-0.18493352926068893, 'EGHT'),\n",
       " (-0.21311438906291338, 'CIEN'),\n",
       " (-0.21436092175935026, 'TACT'),\n",
       " (-0.2159892616736705, 'MU'),\n",
       " (-0.22525458377344781, 'NCR'),\n",
       " (-0.2668866824746662, 'CNXN'),\n",
       " (-0.2699467138949839, 'HMNY'),\n",
       " (-0.29499480270228196, 'ON'),\n",
       " (-0.304747249508651, 'ATNI'),\n",
       " (-0.3361041487060126, 'WGNR'),\n",
       " (-0.36210001010202336, 'CYBE'),\n",
       " (-0.38381706194733967, 'ANSS'),\n",
       " (-0.391836787108087, 'TCX'),\n",
       " (-0.3946584425084493, 'SYMC'),\n",
       " (-0.4079967498851741, 'FSII'),\n",
       " (-0.4713699477378342, 'DIOD'),\n",
       " (-0.5080479442411922, 'FICO')]"
      ]
     },
     "execution_count": 74,
     "metadata": {},
     "output_type": "execute_result"
    }
   ],
   "source": [
    "Xall, Yall = get_data(0, n_of_comp)\n",
    "lenx = Xall.shape[0]\n",
    "K = 15\n",
    "pred = np.zeros((n_of_comp, 29))\n",
    "coef = np.zeros((1, 8))\n",
    "for i in range(K):\n",
    "    X, Y = get_data(n_of_comp // K * i, n_of_comp // K * (i + 1))\n",
    "    c, p = train_linear_regression(X, Y, Xall, Yall)\n",
    "    pred += p\n",
    "    coef += c\n",
    "pred /= K\n",
    "coef /= K\n",
    "r = [np.corrcoef(pred[i], Yall[lenx // n_of_comp * i: lenx // n_of_comp * (i + 1)].reshape(-1))[0][1] for i in range(n_of_comp)]\n",
    "companies = list(dic.keys())\n",
    "rank = [(r[i], companies[i]) for i in range(n_of_comp)]\n",
    "rank = sorted(rank, reverse = True)\n",
    "print(np.mean(np.array(r), axis = None))\n",
    "rank"
   ]
  },
  {
   "cell_type": "code",
   "execution_count": 75,
   "metadata": {},
   "outputs": [
    {
     "name": "stdout",
     "output_type": "stream",
     "text": [
      "(29,) (29,)\n",
      "[ 0.00350502  0.00626423  0.00229886  0.00411485  0.0025358   0.00648556\n",
      "  0.00063377 -0.00304608  0.00097146  0.00674944 -0.00044346 -0.00025961\n",
      "  0.0007931  -0.00044673  0.00021591  0.00042771 -0.00061471 -0.00106058\n",
      " -0.00260742 -0.00163162  0.00149599 -0.00184949 -0.00367856 -0.00264184\n",
      " -0.00068736  0.00122591  0.00064905  0.00429821 -0.00108959]\n"
     ]
    },
    {
     "data": {
      "text/plain": [
       "<module 'matplotlib.pyplot' from '/Users/howard/anaconda3/lib/python3.7/site-packages/matplotlib/pyplot.py'>"
      ]
     },
     "execution_count": 75,
     "metadata": {},
     "output_type": "execute_result"
    },
    {
     "data": {
      "image/png": "[encoded data removed]",
      "text/plain": [
       "<Figure size 432x288 with 1 Axes>"
      ]
     },
     "metadata": {
      "needs_background": "light"
     },
     "output_type": "display_data"
    }
   ],
   "source": [
    "from matplotlib import pyplot as plt\n",
    "idx = 79\n",
    "X = pred[idx]\n",
    "Y = Yall[29 * idx: 29 * (idx + 1)].reshape(-1)\n",
    "print(X.shape, Y.shape)\n",
    "print(Y)\n",
    "plt.scatter(X, Y)\n",
    "plt.xlim(0, 0.002)\n",
    "plt"
   ]
  },
  {
   "cell_type": "code",
   "execution_count": 13,
   "metadata": {},
   "outputs": [
    {
     "name": "stdout",
     "output_type": "stream",
     "text": [
      "0.04731170128553646\n"
     ]
    },
    {
     "data": {
      "text/plain": [
       "[(0.512742234348051, 'FEIM'),\n",
       " (0.4649327262384743, 'TDS'),\n",
       " (0.42689711970418215, 'ITI'),\n",
       " (0.41175644825821633, 'ANEN'),\n",
       " (0.4082962240357552, 'FICO'),\n",
       " (0.35760322119445986, 'PLT'),\n",
       " (0.35004778167903416, 'XLNX'),\n",
       " (0.3491599150705975, 'IEC'),\n",
       " (0.3418026413108292, 'CACI'),\n",
       " (0.3312735845663457, 'BHE'),\n",
       " (0.3292303552390127, 'ON'),\n",
       " (0.3265506722882933, 'FLIR'),\n",
       " (0.3077839624724794, 'TRMB'),\n",
       " (0.3068480357798244, 'AAPL'),\n",
       " (0.302918373931888, 'CSGS'),\n",
       " (0.29743190899625727, 'DAIO'),\n",
       " (0.2876340309750617, 'MMS'),\n",
       " (0.273730696876465, 'CBB'),\n",
       " (0.2636983586535271, 'OLED'),\n",
       " (0.2579877089247843, 'TCX'),\n",
       " (0.2577999887574404, 'BELFB'),\n",
       " (0.2571000544861236, 'ALOT'),\n",
       " (0.2569972157411634, 'AXE'),\n",
       " (0.2500686343635304, 'TYL'),\n",
       " (0.2475504618442468, 'PAR'),\n",
       " (0.243059429149987, 'ZIXI'),\n",
       " (0.24145427373105144, 'CSCO'),\n",
       " (0.22860297565141302, 'VIAV'),\n",
       " (0.22697214796434173, 'COHU'),\n",
       " (0.2267246181440668, 'NVDA'),\n",
       " (0.2255260343575215, 'SMIT'),\n",
       " (0.2206054475487681, 'ASYS'),\n",
       " (0.2149442091540774, 'EA'),\n",
       " (0.20988132728235684, 'NSYS'),\n",
       " (0.2064456378355271, 'FARO'),\n",
       " (0.20228084425777856, 'CTL'),\n",
       " (0.17010159757564106, 'INOD'),\n",
       " (0.16955908681993198, 'DRCO'),\n",
       " (0.16668909595082435, 'APH'),\n",
       " (0.16375477590614568, 'CSPI'),\n",
       " (0.14329188541846552, 'AMSWA'),\n",
       " (0.1427720107052419, 'TER'),\n",
       " (0.1409034972726474, 'IAC'),\n",
       " (0.14007526207585194, 'DGII'),\n",
       " (0.13938996675998466, 'AXTI'),\n",
       " (0.13270728603370627, 'CIEN'),\n",
       " (0.12885481503061338, 'VSH'),\n",
       " (0.1271417392647476, 'TTWO'),\n",
       " (0.12679351119830384, 'LFUS'),\n",
       " (0.12017103176339991, 'FSII'),\n",
       " (0.11720565321840155, 'GVP'),\n",
       " (0.11081213527728068, 'SUPX'),\n",
       " (0.1107142868389891, 'TACT'),\n",
       " (0.10685706971732516, 'PAYX'),\n",
       " (0.1029531462794493, 'EGHT'),\n",
       " (0.09549415068624223, 'TLAB'),\n",
       " (0.09123729616615092, 'ASUR'),\n",
       " (0.08921912563973795, 'WTT'),\n",
       " (0.08425482519928283, 'ANSS'),\n",
       " (0.08123455825923312, 'INTC'),\n",
       " (0.07972219065884499, 'AVX'),\n",
       " (0.07222311686521832, 'CYBE'),\n",
       " (0.06353104858278841, 'WDC'),\n",
       " (0.06343638574843646, 'ZBRA'),\n",
       " (0.062479649182927866, 'EBIX'),\n",
       " (0.059500004975596064, 'EEFT'),\n",
       " (0.048229199961666, 'CYMI'),\n",
       " (0.04433956412380109, 'TRT'),\n",
       " (0.04315208219663982, 'DIOD'),\n",
       " (0.03634275413514978, 'INAP'),\n",
       " (0.03407921336643061, 'CMTL'),\n",
       " (0.03403295298180462, 'NCR'),\n",
       " (0.029175510597230024, 'LSCC'),\n",
       " (0.028088227408874584, 'TXN'),\n",
       " (0.02633260887168191, 'WGNR'),\n",
       " (0.025456501339570916, 'IT'),\n",
       " (0.025116366729668178, 'SYMC'),\n",
       " (0.014836147608677198, 'MTSC'),\n",
       " (0.012296485563152413, 'HMNY'),\n",
       " (0.009062400058140303, 'IBM'),\n",
       " (0.008617884862591749, 'FFIV'),\n",
       " (0.006679700949814718, 'MXWL'),\n",
       " (-0.001021183846489602, 'MSFT'),\n",
       " (-0.003456156545060098, 'AWRE'),\n",
       " (-0.0036228013921283777, 'MSTR'),\n",
       " (-0.01194837726987497, 'HLIT'),\n",
       " (-0.023372061775730063, 'PCTI'),\n",
       " (-0.02463443899403253, 'INTT'),\n",
       " (-0.02620271519580027, 'ATNI'),\n",
       " (-0.030143683962276888, 'ACCL'),\n",
       " (-0.030811155116010857, 'CRAY'),\n",
       " (-0.03581391717911245, 'ESCC'),\n",
       " (-0.04077837599985819, 'FTR'),\n",
       " (-0.04325361549137571, 'CELL'),\n",
       " (-0.055406525610308774, 'KVHI'),\n",
       " (-0.06127452411417436, 'CNXN'),\n",
       " (-0.07362253419254637, 'OSIS'),\n",
       " (-0.084897179511446, 'PFSW'),\n",
       " (-0.08529908971869163, 'DDD'),\n",
       " (-0.09969265158644572, 'PKE'),\n",
       " (-0.1017751456400187, 'AMKR'),\n",
       " (-0.11200866906205174, 'ADI'),\n",
       " (-0.12498615934863928, 'MSI'),\n",
       " (-0.13765106496420682, 'MKSI'),\n",
       " (-0.13988979400748222, 'SHEN'),\n",
       " (-0.14334436193367134, 'KLIC'),\n",
       " (-0.1444545457507746, 'PEGA'),\n",
       " (-0.1446547661939465, 'PRST'),\n",
       " (-0.1449306444649008, 'CASS'),\n",
       " (-0.1503501939358428, 'MU'),\n",
       " (-0.1559847580120489, 'INVE'),\n",
       " (-0.1612778494169571, 'BDR'),\n",
       " (-0.16234933787626432, 'ATEA'),\n",
       " (-0.165027798079326, 'FLEX'),\n",
       " (-0.1734965720896084, 'STCN'),\n",
       " (-0.1799613985498939, 'CDNS'),\n",
       " (-0.18439466959349787, 'INTU'),\n",
       " (-0.18797854275622428, 'ADBE'),\n",
       " (-0.1917508974114481, 'CREE'),\n",
       " (-0.19711437839123436, 'MCHP'),\n",
       " (-0.19883543505320986, 'TESS'),\n",
       " (-0.21062458559051508, 'EGOV'),\n",
       " (-0.22355001455464005, 'SPDC'),\n",
       " (-0.22706752475633044, 'RMTR'),\n",
       " (-0.23443555616571435, 'VSAT'),\n",
       " (-0.24972244697288754, 'CTSH'),\n",
       " (-0.2570841225508824, 'TSS'),\n",
       " (-0.2867177088612527, 'KLAC'),\n",
       " (-0.2884413273600154, 'VECO'),\n",
       " (-0.28934968359260593, 'CY'),\n",
       " (-0.3131710850363672, 'AMD'),\n",
       " (-0.3243242657709564, 'NWK'),\n",
       " (-0.34045518559703186, 'XRX'),\n",
       " (-0.3636382938757835, 'QUIK'),\n",
       " (-0.42012766237422206, 'ZOOM')]"
      ]
     },
     "execution_count": 13,
     "metadata": {},
     "output_type": "execute_result"
    }
   ],
   "source": [
    "r = np.load('dnn_r.npy')\n",
    "companies = list(dic.keys())\n",
    "rank = [(r[i], companies[i]) for i in range(n_of_comp)]\n",
    "rank = sorted(rank, reverse = True)\n",
    "print(np.mean(r, axis = None))\n",
    "rank"
   ]
  },
  {
   "cell_type": "code",
   "execution_count": 38,
   "metadata": {},
   "outputs": [
    {
     "name": "stdout",
     "output_type": "stream",
     "text": [
      "0.07412278504788151\n"
     ]
    },
    {
     "data": {
      "text/plain": [
       "[(0.6665981656897768, 'NWK'),\n",
       " (0.4902733955604108, 'EBIX'),\n",
       " (0.4675952935976823, 'CREE'),\n",
       " (0.43021020875577304, 'CYMI'),\n",
       " (0.4178374964037835, 'ANSS'),\n",
       " (0.41561210378096597, 'DRCO'),\n",
       " (0.3975453831724715, 'PEGA'),\n",
       " (0.33856273688662036, 'EA'),\n",
       " (0.3326920942310593, 'CMTL'),\n",
       " (0.30671692332129197, 'ATNI'),\n",
       " (0.302248438038557, 'FTR'),\n",
       " (0.283842004658443, 'SUPX'),\n",
       " (0.2784035320979778, 'PFSW'),\n",
       " (0.27108793445226137, 'OSIS'),\n",
       " (0.26289583839961267, 'FSII'),\n",
       " (0.2609967160603738, 'ASUR'),\n",
       " (0.2608777291855023, 'EGHT'),\n",
       " (0.2580989030325163, 'WTT'),\n",
       " (0.2537896537637873, 'CSPI'),\n",
       " (0.2501349281309258, 'VECO'),\n",
       " (0.24942694657452325, 'PLT'),\n",
       " (0.24732297035313167, 'NSYS'),\n",
       " (0.23796684267320908, 'TYL'),\n",
       " (0.23668297283350112, 'TER'),\n",
       " (0.233097861871434, 'BELFB'),\n",
       " (0.22745550634782707, 'VSAT'),\n",
       " (0.22702175874888403, 'TCX'),\n",
       " (0.22358401954677679, 'ACCL'),\n",
       " (0.22211458714608046, 'AAPL'),\n",
       " (0.2198914470986128, 'TACT'),\n",
       " (0.2165233891921308, 'FEIM'),\n",
       " (0.2132208695505838, 'FLEX'),\n",
       " (0.20442420059584335, 'EEFT'),\n",
       " (0.2002918250034421, 'CTSH'),\n",
       " (0.19899850903070637, 'PCTI'),\n",
       " (0.19224297199364937, 'AVX'),\n",
       " (0.1915144737766197, 'ASYS'),\n",
       " (0.16986014450993905, 'LFUS'),\n",
       " (0.16824873986410493, 'MSFT'),\n",
       " (0.16818162598021977, 'MCHP'),\n",
       " (0.1681523579912084, 'MKSI'),\n",
       " (0.16616467091039486, 'ADBE'),\n",
       " (0.16528221407487279, 'COHU'),\n",
       " (0.16180110990248134, 'NCR'),\n",
       " (0.1551415363560496, 'TLAB'),\n",
       " (0.154878163617732, 'TRMB'),\n",
       " (0.15110160218540936, 'VIAV'),\n",
       " (0.14892772993124173, 'DIOD'),\n",
       " (0.14761836131527958, 'CSGS'),\n",
       " (0.14285861273243122, 'CRAY'),\n",
       " (0.14022225266719307, 'CY'),\n",
       " (0.13748454645621455, 'WDC'),\n",
       " (0.13540864964324925, 'CDNS'),\n",
       " (0.1299336499012709, 'BHE'),\n",
       " (0.12955599720395844, 'INAP'),\n",
       " (0.12449999236385784, 'CIEN'),\n",
       " (0.12219472386222749, 'INTT'),\n",
       " (0.11309891093442724, 'ZOOM'),\n",
       " (0.11104127809756205, 'PRST'),\n",
       " (0.10244945135926484, 'AXTI'),\n",
       " (0.10080886518139803, 'SPDC'),\n",
       " (0.09710581211000924, 'ESCC'),\n",
       " (0.0935862360922739, 'HMNY'),\n",
       " (0.09236890943885463, 'FARO'),\n",
       " (0.09205542742586845, 'AMSWA'),\n",
       " (0.0874120731856643, 'QUIK'),\n",
       " (0.08333215004458779, 'AXE'),\n",
       " (0.07906762442068745, 'PAR'),\n",
       " (0.07177391217570933, 'EGOV'),\n",
       " (0.07177207870729758, 'AMD'),\n",
       " (0.07079271480702821, 'TRT'),\n",
       " (0.06977025075060952, 'MU'),\n",
       " (0.06297950214626931, 'TESS'),\n",
       " (0.05867699089304612, 'MXWL'),\n",
       " (0.051557584145205414, 'MSI'),\n",
       " (0.05133943335469185, 'VSH'),\n",
       " (0.04844481637703101, 'DGII'),\n",
       " (0.04771231464161955, 'ZIXI'),\n",
       " (0.04628530951630306, 'MMS'),\n",
       " (0.04320979379782492, 'ALOT'),\n",
       " (0.04299367050842628, 'STCN'),\n",
       " (0.03983040204039603, 'MTSC'),\n",
       " (0.022605958872541368, 'DDD'),\n",
       " (0.02024295362218981, 'CBB'),\n",
       " (0.013331506221287997, 'ADI'),\n",
       " (0.012694327408253376, 'SMIT'),\n",
       " (0.009047150058033596, 'TTWO'),\n",
       " (0.008614950544342458, 'AWRE'),\n",
       " (0.007774577891711075, 'IBM'),\n",
       " (0.0016910208823774325, 'TDS'),\n",
       " (0.0002110631020009279, 'PAYX'),\n",
       " (-0.011123741723958398, 'IAC'),\n",
       " (-0.011275669397786913, 'XLNX'),\n",
       " (-0.013705545221959351, 'TSS'),\n",
       " (-0.015358947514989991, 'CACI'),\n",
       " (-0.01915212588357354, 'IEC'),\n",
       " (-0.019577304502506075, 'CNXN'),\n",
       " (-0.02217705368512872, 'CASS'),\n",
       " (-0.030548120614549014, 'MSTR'),\n",
       " (-0.03185554820807139, 'ATEA'),\n",
       " (-0.034468579443755074, 'ITI'),\n",
       " (-0.04209693592278185, 'AMKR'),\n",
       " (-0.044078797107302746, 'SYMC'),\n",
       " (-0.05357223183447847, 'WGNR'),\n",
       " (-0.0602091893988384, 'KVHI'),\n",
       " (-0.07072124696513038, 'LSCC'),\n",
       " (-0.07088966853954211, 'GVP'),\n",
       " (-0.07945757191584184, 'CELL'),\n",
       " (-0.08668700175460578, 'FFIV'),\n",
       " (-0.10185688400011406, 'HLIT'),\n",
       " (-0.10856234905909383, 'TXN'),\n",
       " (-0.11463278765123813, 'APH'),\n",
       " (-0.1186506388580903, 'ZBRA'),\n",
       " (-0.12499034426349061, 'CYBE'),\n",
       " (-0.12952584695897407, 'DAIO'),\n",
       " (-0.13340947312292764, 'INVE'),\n",
       " (-0.13723396457304785, 'INTC'),\n",
       " (-0.14173774554853394, 'XRX'),\n",
       " (-0.14476512300362426, 'CSCO'),\n",
       " (-0.14496655154292726, 'RMTR'),\n",
       " (-0.15188987763097128, 'OLED'),\n",
       " (-0.15366559383075168, 'KLIC'),\n",
       " (-0.15935732367630248, 'ANEN'),\n",
       " (-0.16316128399421062, 'FICO'),\n",
       " (-0.1662174501658339, 'ON'),\n",
       " (-0.1774028933259818, 'KLAC'),\n",
       " (-0.18569674343003179, 'IT'),\n",
       " (-0.20364235326741204, 'PKE'),\n",
       " (-0.2102803074273301, 'INOD'),\n",
       " (-0.25215346429851465, 'SHEN'),\n",
       " (-0.2617812710607742, 'INTU'),\n",
       " (-0.2839065982338365, 'NVDA'),\n",
       " (-0.31192341204090374, 'CTL'),\n",
       " (-0.38072096493840485, 'BDR'),\n",
       " (-0.4153338267787517, 'FLIR')]"
      ]
     },
     "execution_count": 38,
     "metadata": {},
     "output_type": "execute_result"
    }
   ],
   "source": [
    "r = np.load('rnn_r.npy')\n",
    "companies = list(dic.keys())\n",
    "rank = [(r[i], companies[i]) for i in range(n_of_comp)]\n",
    "rank = sorted(rank, reverse = True)\n",
    "print(np.mean(r, axis = None))\n",
    "rank"
   ]
  },
  {
   "cell_type": "code",
   "execution_count": 51,
   "metadata": {},
   "outputs": [
    {
     "name": "stdout",
     "output_type": "stream",
     "text": [
      "79\n"
     ]
    }
   ],
   "source": [
    "for idx, i in enumerate(dic):\n",
    "    if i == 'DRCO':\n",
    "        print(idx)\n",
    "        break"
   ]
  },
  {
   "cell_type": "code",
   "execution_count": 48,
   "metadata": {},
   "outputs": [
    {
     "name": "stdout",
     "output_type": "stream",
     "text": [
      "(29,) (29,)\n",
      "[ 0.0107893  -0.01172047  0.00700634  0.01058928 -0.02134031  0.00852961\n",
      "  0.00500352 -0.00238713 -0.00194615  0.00880383 -0.00393718  0.00633849\n",
      "  0.00151019 -0.00161518 -0.00115697  0.00176677  0.00103668  0.00132023\n",
      " -0.00050814  0.00211048  0.0021213   0.00234034  0.00019836  0.00386055\n",
      "  0.00420702  0.00364783 -0.00079909  0.00597888  0.00271786]\n"
     ]
    },
    {
     "data": {
      "text/plain": [
       "<module 'matplotlib.pyplot' from '/Users/howard/anaconda3/lib/python3.7/site-packages/matplotlib/pyplot.py'>"
      ]
     },
     "execution_count": 48,
     "metadata": {},
     "output_type": "execute_result"
    },
    {
     "data": {
      "image/png": "[encoded data removed]",
      "text/plain": [
       "<Figure size 432x288 with 1 Axes>"
      ]
     },
     "metadata": {
      "needs_background": "light"
     },
     "output_type": "display_data"
    }
   ],
   "source": [
    "from matplotlib import pyplot as plt\n",
    "idx = 109\n",
    "X = np.load('rnn_pred.npy')\n",
    "X = X[idx]\n",
    "Xall, Yall = get_data(0, n_of_comp)\n",
    "Y = Yall[29 * idx: 29 * (idx + 1)].reshape(-1)\n",
    "print(X.shape, Y.shape)\n",
    "print(Y)\n",
    "plt.scatter(X, Y)\n",
    "plt"
   ]
  },
  {
   "cell_type": "code",
   "execution_count": null,
   "metadata": {},
   "outputs": [],
   "source": []
  }
 ],
 "metadata": {
  "kernelspec": {
   "display_name": "Python 3",
   "language": "python",
   "name": "python3"
  },
  "language_info": {
   "codemirror_mode": {
    "name": "ipython",
    "version": 3
   },
   "file_extension": ".py",
   "mimetype": "text/x-python",
   "name": "python",
   "nbconvert_exporter": "python",
   "pygments_lexer": "ipython3",
   "version": "3.7.1"
  }
 },
 "nbformat": 4,
 "nbformat_minor": 2
}
