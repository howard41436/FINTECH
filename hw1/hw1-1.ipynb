{
 "cells": [
  {
   "cell_type": "code",
   "execution_count": 7,
   "metadata": {},
   "outputs": [],
   "source": [
    "import pandas as pd\n",
    "import numpy as np\n",
    "import requests \n",
    "from bs4 import BeautifulSoup\n",
    "import urllib.request\n",
    "import os\n",
    "from pyquery import PyQuery as pq\n",
    "import pickle\n",
    "from selenium import webdriver\n",
    "import datetime as dt\n",
    "import time\n",
    "import calendar"
   ]
  },
  {
   "cell_type": "code",
   "execution_count": 8,
   "metadata": {},
   "outputs": [
    {
     "data": {
      "text/plain": [
       "0      26/7/2007\n",
       "1      14/8/2001\n",
       "2     18/10/2012\n",
       "3       8/3/2007\n",
       "4      3/11/2009\n",
       "5      26/6/2008\n",
       "6     18/10/2012\n",
       "7      26/1/2011\n",
       "8      22/5/2006\n",
       "9      26/3/2008\n",
       "10    18/10/2011\n",
       "11    10/12/2007\n",
       "12     25/7/2000\n",
       "13      1/8/2005\n",
       "14      6/4/2009\n",
       "15     16/9/2011\n",
       "16      9/6/2011\n",
       "17    10/11/2009\n",
       "18     15/6/2007\n",
       "19     26/4/2007\n",
       "20     15/8/2013\n",
       "21    18/10/2011\n",
       "22     26/3/2008\n",
       "23      1/8/2005\n",
       "24     15/6/2018\n",
       "25     31/1/2014\n",
       "26    10/12/2007\n",
       "27     19/3/2015\n",
       "28     14/1/2010\n",
       "29    13/11/2001\n",
       "         ...    \n",
       "70      7/5/2014\n",
       "71     16/6/2006\n",
       "72     8/12/2014\n",
       "73    12/11/2001\n",
       "74     19/4/2010\n",
       "75     22/7/2015\n",
       "76     13/4/2016\n",
       "77     27/9/2007\n",
       "78     24/6/2008\n",
       "79     21/9/2006\n",
       "80     16/6/2015\n",
       "81    24/10/2017\n",
       "82     31/1/2007\n",
       "83     31/1/2012\n",
       "84     12/9/2016\n",
       "85     15/4/2008\n",
       "86     27/6/2013\n",
       "87     4/11/2010\n",
       "88     16/6/2006\n",
       "89     29/5/2013\n",
       "90     16/6/2006\n",
       "91      4/6/2014\n",
       "92      7/1/2016\n",
       "93    12/11/2001\n",
       "94     21/9/2006\n",
       "95     21/9/2006\n",
       "96    20/12/2011\n",
       "97     16/6/2014\n",
       "98     12/8/2015\n",
       "99    24/10/2006\n",
       "Name: Inception, Length: 100, dtype: object"
      ]
     },
     "execution_count": 8,
     "metadata": {},
     "output_type": "execute_result"
    }
   ],
   "source": [
    "data = pd.read_csv('ETF_List.csv')\n",
    "data.head(5)\n",
    "data['Inception']"
   ]
  },
  {
   "cell_type": "code",
   "execution_count": 9,
   "metadata": {},
   "outputs": [],
   "source": [
    "Y = []\n",
    "for i in range(len(data)):\n",
    "    Y.append(int(data['Inception'][i][-4:]))\n",
    "pd_Y = pd.DataFrame(Y)\n",
    "data_Y = pd.concat([data['Symbol'],pd_Y],axis = 1);data_Y.columns= ['Symbol','Year']\n",
    "data_list = data_Y[data_Y.Year<2016]\n",
    "data_list_Chien = data_list[0:]\n",
    "data_list_Chien.index = range(len(data_list_Chien))"
   ]
  },
  {
   "cell_type": "code",
   "execution_count": 10,
   "metadata": {},
   "outputs": [],
   "source": [
    "driver = webdriver.Chrome()\n",
    "driver.get(\"https://finance.yahoo.com/quote/\"+data_list_Chien['Symbol'][1]+\"/history?period1=1451491200&period2=1552752000&interval=1d&filter=history&frequency=1d\")\n",
    "button = driver.find_element_by_link_text('Download Data')\n",
    "button.click()\n",
    "time.sleep(10)\n",
    "driver.close()"
   ]
  },
  {
   "cell_type": "code",
   "execution_count": null,
   "metadata": {},
   "outputs": [],
   "source": []
  },
  {
   "cell_type": "code",
   "execution_count": 11,
   "metadata": {},
   "outputs": [
    {
     "name": "stdout",
     "output_type": "stream",
     "text": [
      "VXUS\n"
     ]
    }
   ],
   "source": [
    "for i in range(len(data_list_Chien)):\n",
    "    try:\n",
    "        options = webdriver.ChromeOptions() \n",
    "        options.add_argument(\"download.default_directory=./data\")\n",
    "        driver = webdriver.Chrome(options=options)\n",
    "        driver.get(\"https://finance.yahoo.com/quote/\"+data_list_Chien['Symbol'][i]+\"/history?period1=1451491200&period2=1552752000&interval=1d&filter=history&frequency=1d\")\n",
    "        button = driver.find_element_by_link_text('Download Data')\n",
    "        button.click()\n",
    "        time.sleep(6)\n",
    "        driver.quit()\n",
    "    except:\n",
    "        print(data_list_Chien['Symbol'][i])\n",
    "        continue"
   ]
  },
  {
   "cell_type": "code",
   "execution_count": 44,
   "metadata": {},
   "outputs": [
    {
     "data": {
      "text/plain": [
       "['https://personal.vanguard.com/us/funds/snapshot?FundId=0936&FundIntExt=INT',\n",
       " 'http://us.ishares.com/product_info/fund/overview/EFA.htm?qt=EFA',\n",
       " 'http://us.ishares.com/product_info/fund/overview/IEFA.htm?fundSearch=true&qt=IEFA',\n",
       " 'https://personal.vanguard.com/us/funds/snapshot?FundId=0991&FundIntExt=INT',\n",
       " 'https://www.csimfunds.com/public/csim/home/products/exchange_traded_funds/summary.html?symbol=SCHF',\n",
       " 'https://personal.vanguard.com/us/funds/snapshot?FundId=3141&FundIntExt=INT',\n",
       " 'http://us.ishares.com/product_info/fund/overview/IXUS.htm',\n",
       " 'https://personal.vanguard.com/us/funds/snapshot?FundId=3369&FundIntExt=INT',\n",
       " 'http://www.vaneck.com/market-vectors/equity-etfs/gdx/snapshot/',\n",
       " 'http://us.ishares.com/product_info/fund/overview/ACWI.htm?qt=ACWI',\n",
       " 'http://us.ishares.com/product_info/fund/overview/EFAV.htm?fundSearch=true&qt=EFAV',\n",
       " 'http://us.ishares.com/product_info/fund/overview/SCZ.htm?qt=SCZ',\n",
       " 'http://us.ishares.com/product_info/fund/overview/EZU.htm?qt=EZU',\n",
       " 'http://us.ishares.com/product_info/fund/overview/EFV.htm?qt=EFV',\n",
       " 'https://personal.vanguard.com/us/funds/snapshot?FundId=3184&FundIntExt=INT',\n",
       " 'http://flexshares.com/exchange-traded-funds/morningstar-global-upstream-natural-resources-index',\n",
       " 'https://etfus.deutscheawm.com/US/EN/Product-Detail-Page/DBEF',\n",
       " 'http://www.vaneck.com/index.cfm?cat=3192&cGroup=ETF&LN=3-02&tkr=GDXJ&LN=3_02#',\n",
       " 'http://us.ishares.com/product_info/fund/overview/IDV.htm?qt=IDV',\n",
       " 'https://us.spdrs.com/en/etf/spdr-portfolio-world-ex-us-etf-SPDW',\n",
       " 'https://www.csimfunds.com/public/csim/home/products/exchange_traded_funds/summary.html?symbol=FNDF',\n",
       " 'http://us.ishares.com/product_info/fund/overview/ACWV.htm?fundSearch=true&qt=ACWV',\n",
       " 'http://us.ishares.com/product_info/fund/overview/ACWX.htm?qt=ACWX',\n",
       " 'http://us.ishares.com/product_info/fund/overview/EFG.htm?qt=EFG',\n",
       " 'http://www.ishares.com/us/products/259622/ishares-currency-hedged-msci-eafe-etf',\n",
       " 'http://us.ishares.com/product_info/fund/overview/IGF.htm?qt=IGF',\n",
       " 'http://www.ishares.com/us/products/272532/XT',\n",
       " 'https://www.schwabetfs.com/summary.asp?symbol=SCHC',\n",
       " 'http://us.ishares.com/product_info/fund/overview/IXJ.htm?qt=IXJ',\n",
       " 'http://us.ishares.com/product_info/fund/overview/IOO.htm?qt=IOO',\n",
       " 'https://www.schwabetfs.com/summary.asp?symbol=FNDC',\n",
       " 'https://www.spdrs.com/product/fund.seam?ticker=CWI',\n",
       " 'http://www.wisdomtree.com/etfs/fund-details.asp?etfid=25',\n",
       " 'http://www.latticeetfs.com/our-etfs/RODM.php',\n",
       " 'https://www.jpmorganfunds.com/cm/Satellite?pagename=jpmfVanityWrapper&UserFriendlyURL=etffundoverview&cusip=46641Q209',\n",
       " 'http://invescopowershares.com/products/overview.aspx?ticker=PXF',\n",
       " 'http://www.direxionshares.com/etf/gold_miners_bull_2x_shares.html',\n",
       " 'http://www.robostoxetfs.com/',\n",
       " 'https://www.spdrs.com/product/fund.seam?ticker=GNR',\n",
       " 'http://us.ishares.com/product_info/fund/overview/IXC.htm?qt=IXC',\n",
       " 'https://assetmanagement.gs.com/content/gsam/us/en/individual/products/etf-fund-finder/goldman-sachs-activebeta-international-equity-etf.html',\n",
       " 'http://www.ishares.com/us/products/272822/INTF',\n",
       " 'http://www.ishares.com/us/products/268708/HEZU',\n",
       " 'http://www.ftportfolios.com/Retail/etf/etfsummary.aspx?Ticker=FDT',\n",
       " 'http://www.flexshares.com/exchange-traded-funds/morningstar-developed-markets-ex-us-factor-tilt-index',\n",
       " 'http://globalxfunds.com/SDIV',\n",
       " 'http://www.vaneck.com/funds/SMH.aspx',\n",
       " 'https://www.spdrs.com/product/fund.seam?ticker=GWX',\n",
       " 'http://www.wisdomtree.com/etfs/fund-details.asp?etfid=20',\n",
       " 'https://www.flexshares.com/exchange-traded-funds/stoxx-global-broad-infrastructure-index-fund',\n",
       " 'http://www.direxioninvestments.com/products/direxion-daily-junior-gold-miners-bull-3x-etf',\n",
       " 'https://www.spdrs.com/product/fund.seam?ticker=DWX',\n",
       " 'http://www.vaneck.com/market-vectors/equity-etfs/moo/snapshot/',\n",
       " 'https://www.flexshares.com/exchange-traded-funds/international-quality-dividend-index-fund',\n",
       " 'http://invescopowershares.com/products/overview.aspx?ticker=PID',\n",
       " 'http://us.ishares.com/product_info/fund/overview/KXI.htm?qt=KXI',\n",
       " 'http://us.ishares.com/product_info/fund/overview/URTH.htm?fundSearch=true&qt=URTH',\n",
       " 'http://www.globalxfunds.com/LIT',\n",
       " 'http://invescopowershares.com/products/overview.aspx?ticker=IDLV',\n",
       " 'http://guggenheiminvestments.com/products/etf/cgw',\n",
       " 'https://www.ishares.com/us/products/271540/ishares-msci-international-developed-quality-factor-etf',\n",
       " 'http://us.ishares.com/product_info/fund/overview/EWS.htm?qt=EWS',\n",
       " 'http://www.ftportfolios.com/retail/ETF/ETFsummary.aspx?Ticker=FGD',\n",
       " 'http://www.wisdomtree.com/etfs/fund-details.aspx?etfid=102',\n",
       " 'http://www.wisdomtree.com/etfs/fund-details.asp?etfid=21',\n",
       " 'https://www.ishares.com/us/products/271054/CRBN',\n",
       " 'http://us.ishares.com/product_info/fund/overview/IXG.htm?qt=IXG',\n",
       " 'http://globalxfunds.com/SIL',\n",
       " 'http://www.indexiq.com/etfs/currency-hedged-equity/iq-50-percent-hedged-ftse-international-etf.html',\n",
       " 'https://www.invesco.com/portal/site/us/financial-professional/etfs/product-detail?productId=PDN',\n",
       " 'http://us.ishares.com/product_info/fund/overview/WOOD.htm?qt=WOOD',\n",
       " 'http://us.ishares.com/product_info/fund/overview/JXI.htm?qt=JXI',\n",
       " 'https://www.ishares.com/us/products/275382/ishares-msci-international-developed-value-factor-etf',\n",
       " 'https://www.spdrs.com/product/fund.seam?ticker=GII',\n",
       " 'http://us.ishares.com/product_info/fund/overview/PICK.htm',\n",
       " 'http://www.guggenheimfunds.com/etf/fund/TAN',\n",
       " 'http://www.alpsfunds.com/overview/IDOG',\n",
       " 'http://www.globalxfunds.com/fundsummary.php?fundid=19121&catid=22',\n",
       " 'http://www.wisdomtree.com/etfs/fund-details.asp?etfid=24',\n",
       " 'https://www.spdrs.com/product/fund.seam?ticker=WDIV',\n",
       " 'http://www.wisdomtree.com/etfs/fund-details.asp?etfid=23',\n",
       " 'https://www.spdrs.com/product/fund.seam?ticker=QEFA#',\n",
       " 'http://us.ishares.com/product_info/fund/overview/IXP.htm?qt=IXP',\n",
       " 'http://us.ishares.com/product_info/fund/overview/MXI.htm?qt=MXI',\n",
       " 'http://us.ishares.com/product_info/fund/overview/RXI.htm?qt=RXI',\n",
       " 'http://www.vaneck.com/funds/PPH.aspx',\n",
       " 'https://www.jpmorganfunds.com/cm/Satellite?pagename=jpmfVanityWrapper&UserFriendlyURL=etffundoverview&cusip=46641Q100',\n",
       " 'https://etfus.deutscheawm.com/US/EN/Product-Detail-Page/HDEF',\n",
       " 'http://invescopowershares.com/products/overview.aspx?ticker=PSP']"
      ]
     },
     "execution_count": 44,
     "metadata": {},
     "output_type": "execute_result"
    }
   ],
   "source": [
    "web_list = []\n",
    "for i in range(len(data_list_Chien)):\n",
    "    try:\n",
    "        url = \"https://etfdb.com/etf/\"+data_list_Chien['Symbol'][i]\n",
    "        reqs = requests.get(url)\n",
    "        soup = BeautifulSoup(reqs.text, 'html.parser')\n",
    "        web = soup.find_all(\"a\",text = \"Home page\")\n",
    "        web_homepage = web[0].get('href')\n",
    "        web_list.append(web_homepage)\n",
    "    except:\n",
    "        print(data_list_Chien['Symbol'][i])\n",
    "        \n",
    "        \n",
    "web_list"
   ]
  },
  {
   "cell_type": "code",
   "execution_count": 116,
   "metadata": {},
   "outputs": [],
   "source": [
    "import os\n",
    "testdir = r'C:\\Users\\ASUS\\jupyter\\123' \n",
    "list=os.listdir(testdir)\n",
    "list.pop(2)\n",
    "all_name=[]\n",
    "combine_data=pd.DataFrame()\n",
    "for s in list:\n",
    "    all_name.append(s[:-4])\n",
    "    data=pd.read_csv(r\"C:\\Users\\ASUS\\jupyter\\123\\\\\"+s,index_col=0,parse_dates=True)[\"Adj Close\"]\n",
    "    combine_data=pd.concat([combine_data,data],axis=1)\n",
    "combine_data.columns=all_name"
   ]
  },
  {
   "cell_type": "code",
   "execution_count": 110,
   "metadata": {},
   "outputs": [],
   "source": [
    "import os\n",
    "testdir = r'C:\\Users\\ASUS\\jupyter\\123' \n",
    "list=os.listdir(testdir)\n",
    "list.pop(2)\n",
    "all_name=[]\n",
    "combine_data=pd.DataFrame()\n",
    "for s in list:\n",
    "    open(r\"C:\\Users\\ASUS\\jupyter\\123\\\\\"+s)\n"
   ]
  },
  {
   "cell_type": "code",
   "execution_count": 111,
   "metadata": {},
   "outputs": [
    {
     "ename": "SyntaxError",
     "evalue": "(unicode error) 'unicodeescape' codec can't decode bytes in position 2-3: truncated \\UXXXXXXXX escape (<ipython-input-111-de911d97fc2e>, line 1)",
     "output_type": "error",
     "traceback": [
      "\u001b[1;36m  File \u001b[1;32m\"<ipython-input-111-de911d97fc2e>\"\u001b[1;36m, line \u001b[1;32m1\u001b[0m\n\u001b[1;33m    data=pd.read_csv(\"C:\\Users\\ASUS\\jupyter\\123\\ACWI.csv\",index_col=0,parse_dates=True)[\"Adj Close\"]\u001b[0m\n\u001b[1;37m                    ^\u001b[0m\n\u001b[1;31mSyntaxError\u001b[0m\u001b[1;31m:\u001b[0m (unicode error) 'unicodeescape' codec can't decode bytes in position 2-3: truncated \\UXXXXXXXX escape\n"
     ]
    }
   ],
   "source": [
    "data=pd.read_csv(\"C:\\Users\\ASUS\\jupyter\\123\\ACWI.csv\",index_col=0,parse_dates=True)[\"Adj Close\"]"
   ]
  }
 ],
 "metadata": {
  "kernelspec": {
   "display_name": "Python 3",
   "language": "python",
   "name": "python3"
  }
 },
 "nbformat": 4,
 "nbformat_minor": 2
}
